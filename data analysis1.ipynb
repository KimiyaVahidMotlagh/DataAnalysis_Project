{
 "cells": [
  {
   "cell_type": "code",
   "execution_count": 1,
   "id": "3fc43e54",
   "metadata": {},
   "outputs": [],
   "source": [
    "import pandas as pd\n",
    "import seaborn as sns\n",
    "from scipy import stats\n",
    "import statsmodels.formula.api as smf\n",
    "import statsmodels.api as sm\n",
    "from seaborn_qqplot import pplot\n",
    "import numpy as np"
   ]
  },
  {
   "cell_type": "code",
   "execution_count": 2,
   "id": "f2684934",
   "metadata": {},
   "outputs": [],
   "source": [
    "df = pd.read_csv(\"میزان اعتیاد به اینترنت - Lable.xlsx - Results (1).csv\")"
   ]
  },
  {
   "cell_type": "code",
   "execution_count": 3,
   "id": "ed863a86",
   "metadata": {},
   "outputs": [
    {
     "data": {
      "text/html": [
       "<div>\n",
       "<style scoped>\n",
       "    .dataframe tbody tr th:only-of-type {\n",
       "        vertical-align: middle;\n",
       "    }\n",
       "\n",
       "    .dataframe tbody tr th {\n",
       "        vertical-align: top;\n",
       "    }\n",
       "\n",
       "    .dataframe thead th {\n",
       "        text-align: right;\n",
       "    }\n",
       "</style>\n",
       "<table border=\"1\" class=\"dataframe\">\n",
       "  <thead>\n",
       "    <tr style=\"text-align: right;\">\n",
       "      <th></th>\n",
       "      <th>Gender</th>\n",
       "      <th>Age</th>\n",
       "      <th>Marital Status</th>\n",
       "      <th>Job</th>\n",
       "      <th>Education</th>\n",
       "      <th>Sadness</th>\n",
       "      <th>Cynicism</th>\n",
       "      <th>Failure</th>\n",
       "      <th>Anhedonia</th>\n",
       "      <th>Guilt</th>\n",
       "      <th>...</th>\n",
       "      <th>Q66</th>\n",
       "      <th>Unnamed: 92</th>\n",
       "      <th>تاریخ شروع</th>\n",
       "      <th>Unnamed: 94</th>\n",
       "      <th>تاریخ اتمام</th>\n",
       "      <th>زمان</th>\n",
       "      <th>BDI-II</th>\n",
       "      <th>Extraversion</th>\n",
       "      <th>Psychoticism</th>\n",
       "      <th>IA_Level</th>\n",
       "    </tr>\n",
       "  </thead>\n",
       "  <tbody>\n",
       "    <tr>\n",
       "      <th>0</th>\n",
       "      <td>0</td>\n",
       "      <td>15</td>\n",
       "      <td>0</td>\n",
       "      <td>6</td>\n",
       "      <td>0</td>\n",
       "      <td>2</td>\n",
       "      <td>1</td>\n",
       "      <td>1</td>\n",
       "      <td>1</td>\n",
       "      <td>4</td>\n",
       "      <td>...</td>\n",
       "      <td>3</td>\n",
       "      <td>NaN</td>\n",
       "      <td>17:19:06</td>\n",
       "      <td>0:18:47</td>\n",
       "      <td>17:37:53</td>\n",
       "      <td>0:18:47</td>\n",
       "      <td>36</td>\n",
       "      <td>9</td>\n",
       "      <td>5</td>\n",
       "      <td>43</td>\n",
       "    </tr>\n",
       "    <tr>\n",
       "      <th>1</th>\n",
       "      <td>0</td>\n",
       "      <td>42</td>\n",
       "      <td>0</td>\n",
       "      <td>4</td>\n",
       "      <td>3</td>\n",
       "      <td>2</td>\n",
       "      <td>2</td>\n",
       "      <td>1</td>\n",
       "      <td>2</td>\n",
       "      <td>1</td>\n",
       "      <td>...</td>\n",
       "      <td>1</td>\n",
       "      <td>NaN</td>\n",
       "      <td>11:10:17</td>\n",
       "      <td>0:11:55</td>\n",
       "      <td>11:22:12</td>\n",
       "      <td>0:11:55</td>\n",
       "      <td>34</td>\n",
       "      <td>8</td>\n",
       "      <td>5</td>\n",
       "      <td>29</td>\n",
       "    </tr>\n",
       "    <tr>\n",
       "      <th>2</th>\n",
       "      <td>1</td>\n",
       "      <td>42</td>\n",
       "      <td>1</td>\n",
       "      <td>2</td>\n",
       "      <td>5</td>\n",
       "      <td>2</td>\n",
       "      <td>2</td>\n",
       "      <td>2</td>\n",
       "      <td>3</td>\n",
       "      <td>2</td>\n",
       "      <td>...</td>\n",
       "      <td>3</td>\n",
       "      <td>NaN</td>\n",
       "      <td>11:46:47</td>\n",
       "      <td>0:11:37</td>\n",
       "      <td>11:58:24</td>\n",
       "      <td>0:11:37</td>\n",
       "      <td>45</td>\n",
       "      <td>11</td>\n",
       "      <td>4</td>\n",
       "      <td>65</td>\n",
       "    </tr>\n",
       "    <tr>\n",
       "      <th>3</th>\n",
       "      <td>0</td>\n",
       "      <td>21</td>\n",
       "      <td>0</td>\n",
       "      <td>1</td>\n",
       "      <td>2</td>\n",
       "      <td>1</td>\n",
       "      <td>1</td>\n",
       "      <td>1</td>\n",
       "      <td>1</td>\n",
       "      <td>2</td>\n",
       "      <td>...</td>\n",
       "      <td>2</td>\n",
       "      <td>NaN</td>\n",
       "      <td>18:31:25</td>\n",
       "      <td>0:10:52</td>\n",
       "      <td>18:42:17</td>\n",
       "      <td>0:10:52</td>\n",
       "      <td>36</td>\n",
       "      <td>11</td>\n",
       "      <td>2</td>\n",
       "      <td>44</td>\n",
       "    </tr>\n",
       "    <tr>\n",
       "      <th>4</th>\n",
       "      <td>0</td>\n",
       "      <td>21</td>\n",
       "      <td>2</td>\n",
       "      <td>1</td>\n",
       "      <td>2</td>\n",
       "      <td>1</td>\n",
       "      <td>1</td>\n",
       "      <td>2</td>\n",
       "      <td>1</td>\n",
       "      <td>1</td>\n",
       "      <td>...</td>\n",
       "      <td>2</td>\n",
       "      <td>NaN</td>\n",
       "      <td>18:15:07</td>\n",
       "      <td>0:12:18</td>\n",
       "      <td>18:27:25</td>\n",
       "      <td>0:12:18</td>\n",
       "      <td>32</td>\n",
       "      <td>9</td>\n",
       "      <td>5</td>\n",
       "      <td>64</td>\n",
       "    </tr>\n",
       "    <tr>\n",
       "      <th>...</th>\n",
       "      <td>...</td>\n",
       "      <td>...</td>\n",
       "      <td>...</td>\n",
       "      <td>...</td>\n",
       "      <td>...</td>\n",
       "      <td>...</td>\n",
       "      <td>...</td>\n",
       "      <td>...</td>\n",
       "      <td>...</td>\n",
       "      <td>...</td>\n",
       "      <td>...</td>\n",
       "      <td>...</td>\n",
       "      <td>...</td>\n",
       "      <td>...</td>\n",
       "      <td>...</td>\n",
       "      <td>...</td>\n",
       "      <td>...</td>\n",
       "      <td>...</td>\n",
       "      <td>...</td>\n",
       "      <td>...</td>\n",
       "      <td>...</td>\n",
       "    </tr>\n",
       "    <tr>\n",
       "      <th>75</th>\n",
       "      <td>0</td>\n",
       "      <td>24</td>\n",
       "      <td>0</td>\n",
       "      <td>2</td>\n",
       "      <td>2</td>\n",
       "      <td>2</td>\n",
       "      <td>2</td>\n",
       "      <td>2</td>\n",
       "      <td>1</td>\n",
       "      <td>2</td>\n",
       "      <td>...</td>\n",
       "      <td>2</td>\n",
       "      <td>NaN</td>\n",
       "      <td>18:18:36</td>\n",
       "      <td>0:12:02</td>\n",
       "      <td>18:30:38</td>\n",
       "      <td>0:12:02</td>\n",
       "      <td>34</td>\n",
       "      <td>11</td>\n",
       "      <td>5</td>\n",
       "      <td>36</td>\n",
       "    </tr>\n",
       "    <tr>\n",
       "      <th>76</th>\n",
       "      <td>0</td>\n",
       "      <td>20</td>\n",
       "      <td>0</td>\n",
       "      <td>1</td>\n",
       "      <td>0</td>\n",
       "      <td>1</td>\n",
       "      <td>1</td>\n",
       "      <td>1</td>\n",
       "      <td>2</td>\n",
       "      <td>1</td>\n",
       "      <td>...</td>\n",
       "      <td>3</td>\n",
       "      <td>NaN</td>\n",
       "      <td>18:19:47</td>\n",
       "      <td>0:07:18</td>\n",
       "      <td>18:27:05</td>\n",
       "      <td>0:07:18</td>\n",
       "      <td>35</td>\n",
       "      <td>16</td>\n",
       "      <td>11</td>\n",
       "      <td>66</td>\n",
       "    </tr>\n",
       "    <tr>\n",
       "      <th>77</th>\n",
       "      <td>0</td>\n",
       "      <td>22</td>\n",
       "      <td>0</td>\n",
       "      <td>1</td>\n",
       "      <td>2</td>\n",
       "      <td>2</td>\n",
       "      <td>1</td>\n",
       "      <td>1</td>\n",
       "      <td>1</td>\n",
       "      <td>2</td>\n",
       "      <td>...</td>\n",
       "      <td>2</td>\n",
       "      <td>NaN</td>\n",
       "      <td>18:08:58</td>\n",
       "      <td>0:11:33</td>\n",
       "      <td>18:20:31</td>\n",
       "      <td>0:11:33</td>\n",
       "      <td>32</td>\n",
       "      <td>15</td>\n",
       "      <td>6</td>\n",
       "      <td>71</td>\n",
       "    </tr>\n",
       "    <tr>\n",
       "      <th>78</th>\n",
       "      <td>0</td>\n",
       "      <td>22</td>\n",
       "      <td>0</td>\n",
       "      <td>1</td>\n",
       "      <td>2</td>\n",
       "      <td>2</td>\n",
       "      <td>2</td>\n",
       "      <td>2</td>\n",
       "      <td>3</td>\n",
       "      <td>2</td>\n",
       "      <td>...</td>\n",
       "      <td>3</td>\n",
       "      <td>NaN</td>\n",
       "      <td>17:53:58</td>\n",
       "      <td>0:13:02</td>\n",
       "      <td>18:07:00</td>\n",
       "      <td>0:13:02</td>\n",
       "      <td>56</td>\n",
       "      <td>6</td>\n",
       "      <td>14</td>\n",
       "      <td>65</td>\n",
       "    </tr>\n",
       "    <tr>\n",
       "      <th>79</th>\n",
       "      <td>0</td>\n",
       "      <td>20</td>\n",
       "      <td>0</td>\n",
       "      <td>1</td>\n",
       "      <td>2</td>\n",
       "      <td>2</td>\n",
       "      <td>1</td>\n",
       "      <td>2</td>\n",
       "      <td>2</td>\n",
       "      <td>3</td>\n",
       "      <td>...</td>\n",
       "      <td>2</td>\n",
       "      <td>NaN</td>\n",
       "      <td>17:41:26</td>\n",
       "      <td>0:16:08</td>\n",
       "      <td>17:57:34</td>\n",
       "      <td>0:16:08</td>\n",
       "      <td>46</td>\n",
       "      <td>3</td>\n",
       "      <td>6</td>\n",
       "      <td>74</td>\n",
       "    </tr>\n",
       "  </tbody>\n",
       "</table>\n",
       "<p>80 rows × 101 columns</p>\n",
       "</div>"
      ],
      "text/plain": [
       "    Gender  Age  Marital Status  Job  Education  Sadness  Cynicism  Failure  \\\n",
       "0        0   15               0    6          0        2         1        1   \n",
       "1        0   42               0    4          3        2         2        1   \n",
       "2        1   42               1    2          5        2         2        2   \n",
       "3        0   21               0    1          2        1         1        1   \n",
       "4        0   21               2    1          2        1         1        2   \n",
       "..     ...  ...             ...  ...        ...      ...       ...      ...   \n",
       "75       0   24               0    2          2        2         2        2   \n",
       "76       0   20               0    1          0        1         1        1   \n",
       "77       0   22               0    1          2        2         1        1   \n",
       "78       0   22               0    1          2        2         2        2   \n",
       "79       0   20               0    1          2        2         1        2   \n",
       "\n",
       "    Anhedonia  Guilt  ...  Q66  Unnamed: 92  تاریخ شروع  Unnamed: 94  \\\n",
       "0           1      4  ...    3          NaN    17:19:06      0:18:47   \n",
       "1           2      1  ...    1          NaN    11:10:17      0:11:55   \n",
       "2           3      2  ...    3          NaN    11:46:47      0:11:37   \n",
       "3           1      2  ...    2          NaN    18:31:25      0:10:52   \n",
       "4           1      1  ...    2          NaN    18:15:07      0:12:18   \n",
       "..        ...    ...  ...  ...          ...         ...          ...   \n",
       "75          1      2  ...    2          NaN    18:18:36      0:12:02   \n",
       "76          2      1  ...    3          NaN    18:19:47      0:07:18   \n",
       "77          1      2  ...    2          NaN    18:08:58      0:11:33   \n",
       "78          3      2  ...    3          NaN    17:53:58      0:13:02   \n",
       "79          2      3  ...    2          NaN    17:41:26      0:16:08   \n",
       "\n",
       "    تاریخ اتمام     زمان  BDI-II  Extraversion  Psychoticism  IA_Level  \n",
       "0      17:37:53  0:18:47      36             9             5        43  \n",
       "1      11:22:12  0:11:55      34             8             5        29  \n",
       "2      11:58:24  0:11:37      45            11             4        65  \n",
       "3      18:42:17  0:10:52      36            11             2        44  \n",
       "4      18:27:25  0:12:18      32             9             5        64  \n",
       "..          ...      ...     ...           ...           ...       ...  \n",
       "75     18:30:38  0:12:02      34            11             5        36  \n",
       "76     18:27:05  0:07:18      35            16            11        66  \n",
       "77     18:20:31  0:11:33      32            15             6        71  \n",
       "78     18:07:00  0:13:02      56             6            14        65  \n",
       "79     17:57:34  0:16:08      46             3             6        74  \n",
       "\n",
       "[80 rows x 101 columns]"
      ]
     },
     "execution_count": 3,
     "metadata": {},
     "output_type": "execute_result"
    }
   ],
   "source": [
    "df"
   ]
  },
  {
   "cell_type": "code",
   "execution_count": 4,
   "id": "361a0589",
   "metadata": {},
   "outputs": [],
   "source": [
    "df = df.drop(columns=[\"Unnamed: 92\", \"Unnamed: 94\"], axis=1)"
   ]
  },
  {
   "cell_type": "code",
   "execution_count": 5,
   "id": "1c4c1337",
   "metadata": {},
   "outputs": [],
   "source": [
    "def time_to_seconds(time_str):\n",
    "    parts = list(map(int, time_str.split(':')))\n",
    "    if len(parts) == 3:  # H:MM:SS\n",
    "        return parts[0] * 3600 + parts[1] * 60 + parts[2]\n",
    "    elif len(parts) == 2:  # MM:SS\n",
    "        return parts[0] * 60 + parts[1]\n",
    "    else:\n",
    "        return None\n",
    "    \n",
    "df[' زمان'] = df[' زمان'].apply(time_to_seconds)    "
   ]
  },
  {
   "cell_type": "code",
   "execution_count": 6,
   "id": "b8bbeab3",
   "metadata": {},
   "outputs": [
    {
     "data": {
      "text/html": [
       "<div>\n",
       "<style scoped>\n",
       "    .dataframe tbody tr th:only-of-type {\n",
       "        vertical-align: middle;\n",
       "    }\n",
       "\n",
       "    .dataframe tbody tr th {\n",
       "        vertical-align: top;\n",
       "    }\n",
       "\n",
       "    .dataframe thead th {\n",
       "        text-align: right;\n",
       "    }\n",
       "</style>\n",
       "<table border=\"1\" class=\"dataframe\">\n",
       "  <thead>\n",
       "    <tr style=\"text-align: right;\">\n",
       "      <th></th>\n",
       "      <th>Gender</th>\n",
       "      <th>Age</th>\n",
       "      <th>Marital Status</th>\n",
       "      <th>Job</th>\n",
       "      <th>Education</th>\n",
       "      <th>Sadness</th>\n",
       "      <th>Cynicism</th>\n",
       "      <th>Failure</th>\n",
       "      <th>Anhedonia</th>\n",
       "      <th>Guilt</th>\n",
       "      <th>...</th>\n",
       "      <th>Q62</th>\n",
       "      <th>Q63</th>\n",
       "      <th>Q64</th>\n",
       "      <th>Q65</th>\n",
       "      <th>Q66</th>\n",
       "      <th>زمان</th>\n",
       "      <th>BDI-II</th>\n",
       "      <th>Extraversion</th>\n",
       "      <th>Psychoticism</th>\n",
       "      <th>IA_Level</th>\n",
       "    </tr>\n",
       "  </thead>\n",
       "  <tbody>\n",
       "    <tr>\n",
       "      <th>count</th>\n",
       "      <td>80.000000</td>\n",
       "      <td>80.000000</td>\n",
       "      <td>80.000000</td>\n",
       "      <td>80.000000</td>\n",
       "      <td>80.000000</td>\n",
       "      <td>80.000000</td>\n",
       "      <td>80.000000</td>\n",
       "      <td>80.000000</td>\n",
       "      <td>80.000000</td>\n",
       "      <td>80.000000</td>\n",
       "      <td>...</td>\n",
       "      <td>80.000000</td>\n",
       "      <td>80.000000</td>\n",
       "      <td>80.000000</td>\n",
       "      <td>80.000000</td>\n",
       "      <td>80.000000</td>\n",
       "      <td>80.00000</td>\n",
       "      <td>80.000000</td>\n",
       "      <td>80.000000</td>\n",
       "      <td>80.000000</td>\n",
       "      <td>80.000000</td>\n",
       "    </tr>\n",
       "    <tr>\n",
       "      <th>mean</th>\n",
       "      <td>0.150000</td>\n",
       "      <td>26.075000</td>\n",
       "      <td>0.575000</td>\n",
       "      <td>2.137500</td>\n",
       "      <td>2.312500</td>\n",
       "      <td>1.725000</td>\n",
       "      <td>1.400000</td>\n",
       "      <td>1.475000</td>\n",
       "      <td>1.925000</td>\n",
       "      <td>1.537500</td>\n",
       "      <td>...</td>\n",
       "      <td>2.250000</td>\n",
       "      <td>2.475000</td>\n",
       "      <td>2.700000</td>\n",
       "      <td>1.775000</td>\n",
       "      <td>1.675000</td>\n",
       "      <td>1275.63750</td>\n",
       "      <td>35.275000</td>\n",
       "      <td>8.612500</td>\n",
       "      <td>5.825000</td>\n",
       "      <td>45.287500</td>\n",
       "    </tr>\n",
       "    <tr>\n",
       "      <th>std</th>\n",
       "      <td>0.359324</td>\n",
       "      <td>9.293764</td>\n",
       "      <td>0.882674</td>\n",
       "      <td>1.887626</td>\n",
       "      <td>1.308141</td>\n",
       "      <td>0.594809</td>\n",
       "      <td>0.704416</td>\n",
       "      <td>0.779078</td>\n",
       "      <td>0.924696</td>\n",
       "      <td>0.728163</td>\n",
       "      <td>...</td>\n",
       "      <td>1.277854</td>\n",
       "      <td>1.377716</td>\n",
       "      <td>1.286739</td>\n",
       "      <td>1.030853</td>\n",
       "      <td>1.003475</td>\n",
       "      <td>3168.71058</td>\n",
       "      <td>9.619304</td>\n",
       "      <td>4.150625</td>\n",
       "      <td>2.627869</td>\n",
       "      <td>15.083056</td>\n",
       "    </tr>\n",
       "    <tr>\n",
       "      <th>min</th>\n",
       "      <td>0.000000</td>\n",
       "      <td>14.000000</td>\n",
       "      <td>0.000000</td>\n",
       "      <td>0.000000</td>\n",
       "      <td>0.000000</td>\n",
       "      <td>1.000000</td>\n",
       "      <td>1.000000</td>\n",
       "      <td>1.000000</td>\n",
       "      <td>1.000000</td>\n",
       "      <td>1.000000</td>\n",
       "      <td>...</td>\n",
       "      <td>1.000000</td>\n",
       "      <td>1.000000</td>\n",
       "      <td>1.000000</td>\n",
       "      <td>1.000000</td>\n",
       "      <td>1.000000</td>\n",
       "      <td>338.00000</td>\n",
       "      <td>21.000000</td>\n",
       "      <td>1.000000</td>\n",
       "      <td>0.000000</td>\n",
       "      <td>21.000000</td>\n",
       "    </tr>\n",
       "    <tr>\n",
       "      <th>25%</th>\n",
       "      <td>0.000000</td>\n",
       "      <td>21.000000</td>\n",
       "      <td>0.000000</td>\n",
       "      <td>1.000000</td>\n",
       "      <td>2.000000</td>\n",
       "      <td>1.000000</td>\n",
       "      <td>1.000000</td>\n",
       "      <td>1.000000</td>\n",
       "      <td>1.000000</td>\n",
       "      <td>1.000000</td>\n",
       "      <td>...</td>\n",
       "      <td>1.000000</td>\n",
       "      <td>1.000000</td>\n",
       "      <td>2.000000</td>\n",
       "      <td>1.000000</td>\n",
       "      <td>1.000000</td>\n",
       "      <td>568.75000</td>\n",
       "      <td>29.000000</td>\n",
       "      <td>5.000000</td>\n",
       "      <td>4.000000</td>\n",
       "      <td>32.750000</td>\n",
       "    </tr>\n",
       "    <tr>\n",
       "      <th>50%</th>\n",
       "      <td>0.000000</td>\n",
       "      <td>22.000000</td>\n",
       "      <td>0.000000</td>\n",
       "      <td>1.000000</td>\n",
       "      <td>2.000000</td>\n",
       "      <td>2.000000</td>\n",
       "      <td>1.000000</td>\n",
       "      <td>1.000000</td>\n",
       "      <td>2.000000</td>\n",
       "      <td>1.000000</td>\n",
       "      <td>...</td>\n",
       "      <td>2.000000</td>\n",
       "      <td>2.000000</td>\n",
       "      <td>3.000000</td>\n",
       "      <td>1.000000</td>\n",
       "      <td>1.000000</td>\n",
       "      <td>726.50000</td>\n",
       "      <td>34.000000</td>\n",
       "      <td>9.000000</td>\n",
       "      <td>6.000000</td>\n",
       "      <td>43.500000</td>\n",
       "    </tr>\n",
       "    <tr>\n",
       "      <th>75%</th>\n",
       "      <td>0.000000</td>\n",
       "      <td>26.250000</td>\n",
       "      <td>1.000000</td>\n",
       "      <td>4.000000</td>\n",
       "      <td>3.000000</td>\n",
       "      <td>2.000000</td>\n",
       "      <td>2.000000</td>\n",
       "      <td>2.000000</td>\n",
       "      <td>3.000000</td>\n",
       "      <td>2.000000</td>\n",
       "      <td>...</td>\n",
       "      <td>3.000000</td>\n",
       "      <td>3.000000</td>\n",
       "      <td>3.000000</td>\n",
       "      <td>2.250000</td>\n",
       "      <td>2.000000</td>\n",
       "      <td>986.00000</td>\n",
       "      <td>39.000000</td>\n",
       "      <td>11.250000</td>\n",
       "      <td>7.000000</td>\n",
       "      <td>55.250000</td>\n",
       "    </tr>\n",
       "    <tr>\n",
       "      <th>max</th>\n",
       "      <td>1.000000</td>\n",
       "      <td>48.000000</td>\n",
       "      <td>3.000000</td>\n",
       "      <td>6.000000</td>\n",
       "      <td>6.000000</td>\n",
       "      <td>4.000000</td>\n",
       "      <td>4.000000</td>\n",
       "      <td>4.000000</td>\n",
       "      <td>4.000000</td>\n",
       "      <td>4.000000</td>\n",
       "      <td>...</td>\n",
       "      <td>5.000000</td>\n",
       "      <td>5.000000</td>\n",
       "      <td>5.000000</td>\n",
       "      <td>5.000000</td>\n",
       "      <td>5.000000</td>\n",
       "      <td>28519.00000</td>\n",
       "      <td>61.000000</td>\n",
       "      <td>17.000000</td>\n",
       "      <td>14.000000</td>\n",
       "      <td>83.000000</td>\n",
       "    </tr>\n",
       "  </tbody>\n",
       "</table>\n",
       "<p>8 rows × 97 columns</p>\n",
       "</div>"
      ],
      "text/plain": [
       "          Gender        Age  Marital Status        Job  Education    Sadness  \\\n",
       "count  80.000000  80.000000       80.000000  80.000000  80.000000  80.000000   \n",
       "mean    0.150000  26.075000        0.575000   2.137500   2.312500   1.725000   \n",
       "std     0.359324   9.293764        0.882674   1.887626   1.308141   0.594809   \n",
       "min     0.000000  14.000000        0.000000   0.000000   0.000000   1.000000   \n",
       "25%     0.000000  21.000000        0.000000   1.000000   2.000000   1.000000   \n",
       "50%     0.000000  22.000000        0.000000   1.000000   2.000000   2.000000   \n",
       "75%     0.000000  26.250000        1.000000   4.000000   3.000000   2.000000   \n",
       "max     1.000000  48.000000        3.000000   6.000000   6.000000   4.000000   \n",
       "\n",
       "        Cynicism    Failure  Anhedonia      Guilt  ...        Q62        Q63  \\\n",
       "count  80.000000  80.000000  80.000000  80.000000  ...  80.000000  80.000000   \n",
       "mean    1.400000   1.475000   1.925000   1.537500  ...   2.250000   2.475000   \n",
       "std     0.704416   0.779078   0.924696   0.728163  ...   1.277854   1.377716   \n",
       "min     1.000000   1.000000   1.000000   1.000000  ...   1.000000   1.000000   \n",
       "25%     1.000000   1.000000   1.000000   1.000000  ...   1.000000   1.000000   \n",
       "50%     1.000000   1.000000   2.000000   1.000000  ...   2.000000   2.000000   \n",
       "75%     2.000000   2.000000   3.000000   2.000000  ...   3.000000   3.000000   \n",
       "max     4.000000   4.000000   4.000000   4.000000  ...   5.000000   5.000000   \n",
       "\n",
       "             Q64        Q65        Q66         زمان     BDI-II  Extraversion  \\\n",
       "count  80.000000  80.000000  80.000000     80.00000  80.000000     80.000000   \n",
       "mean    2.700000   1.775000   1.675000   1275.63750  35.275000      8.612500   \n",
       "std     1.286739   1.030853   1.003475   3168.71058   9.619304      4.150625   \n",
       "min     1.000000   1.000000   1.000000    338.00000  21.000000      1.000000   \n",
       "25%     2.000000   1.000000   1.000000    568.75000  29.000000      5.000000   \n",
       "50%     3.000000   1.000000   1.000000    726.50000  34.000000      9.000000   \n",
       "75%     3.000000   2.250000   2.000000    986.00000  39.000000     11.250000   \n",
       "max     5.000000   5.000000   5.000000  28519.00000  61.000000     17.000000   \n",
       "\n",
       "       Psychoticism   IA_Level  \n",
       "count     80.000000  80.000000  \n",
       "mean       5.825000  45.287500  \n",
       "std        2.627869  15.083056  \n",
       "min        0.000000  21.000000  \n",
       "25%        4.000000  32.750000  \n",
       "50%        6.000000  43.500000  \n",
       "75%        7.000000  55.250000  \n",
       "max       14.000000  83.000000  \n",
       "\n",
       "[8 rows x 97 columns]"
      ]
     },
     "execution_count": 6,
     "metadata": {},
     "output_type": "execute_result"
    }
   ],
   "source": [
    "df.describe()"
   ]
  },
  {
   "cell_type": "code",
   "execution_count": 7,
   "id": "c61b7b65",
   "metadata": {},
   "outputs": [
    {
     "data": {
      "text/plain": [
       "Index(['Gender', 'Age', 'Marital Status', 'Job', 'Education', 'Sadness',\n",
       "       'Cynicism', 'Failure', 'Anhedonia', 'Guilt', 'Stimulation',\n",
       "       'Punishment', 'Self-loathing', 'Self-critical', 'Suicidal thoughts',\n",
       "       'Irritability', 'Apathy', 'Indecisiveness', 'Crying', 'Self-worth',\n",
       "       'Energy level', 'Sleep patterns', 'Appetite', 'Attention Span',\n",
       "       'Exhaustion', 'Libido', 'Q1', 'Q2', 'Q3', 'Q4', 'Q5', 'Q6', 'Q7', 'Q8',\n",
       "       'Q9', 'Q10', 'Q11', 'Q12', 'Q13', 'Q14', 'Q15', 'Q16', 'Q17', 'Q18',\n",
       "       'Q19', 'Q20', 'Q21', 'Q22', 'Q23', 'Q24', 'Q25', 'Q26', 'Q27', 'Q28',\n",
       "       'Q29', 'Q30', 'Q31', 'Q32', 'Q33', 'Q34', 'Q35', 'Q36', 'Q37', 'Q38',\n",
       "       'Q39', 'Q40', 'Q41', 'Q42', 'Q43', 'Q44', 'Q45', 'Q46', 'Q47', 'Q48',\n",
       "       'Q49', 'Q50', 'Q51', 'Q52', 'Q53', 'Q54', 'Q55', 'Q56', 'Q57', 'Q58',\n",
       "       'Q59', 'Q60', 'Q61', 'Q62', 'Q63', 'Q64', 'Q65', 'Q66', 'تاریخ شروع',\n",
       "       'تاریخ اتمام', ' زمان', 'BDI-II', 'Extraversion', 'Psychoticism',\n",
       "       'IA_Level'],\n",
       "      dtype='object')"
      ]
     },
     "execution_count": 7,
     "metadata": {},
     "output_type": "execute_result"
    }
   ],
   "source": [
    "df.columns"
   ]
  },
  {
   "cell_type": "code",
   "execution_count": 8,
   "id": "f1fab474",
   "metadata": {},
   "outputs": [],
   "source": [
    "df['bdi_fact'] = pd.cut(df['BDI-II'], bins=3, labels=[\"Low\", \"Mid\", \"High\"])"
   ]
  },
  {
   "cell_type": "code",
   "execution_count": 9,
   "id": "aac2ed92",
   "metadata": {},
   "outputs": [],
   "source": [
    "df['Ex_fact'] = pd.cut(df['Extraversion'], bins=2, labels=[\"Extravert\", \"Intravert\"])"
   ]
  },
  {
   "cell_type": "code",
   "execution_count": 10,
   "id": "a5a94805",
   "metadata": {},
   "outputs": [],
   "source": [
    "df['Psy_fact'] = pd.cut(df['Psychoticism'], bins=3, labels=[\"Low\", \"Mid\", \"High\"])"
   ]
  },
  {
   "cell_type": "code",
   "execution_count": 11,
   "id": "8d42bdf5",
   "metadata": {},
   "outputs": [],
   "source": [
    "df['IA_fact'] = pd.cut(df['IA_Level'], bins=3, labels=[\"Low\", \"Mid\", \"High\"])"
   ]
  },
  {
   "cell_type": "code",
   "execution_count": 12,
   "id": "040b5fed",
   "metadata": {},
   "outputs": [],
   "source": [
    "columns = ['Sadness',\n",
    "       'Cynicism', 'Failure', 'Anhedonia', 'Guilt', 'Stimulation',\n",
    "       'Punishment', 'Self-loathing', 'Self-critical', 'Suicidal thoughts',\n",
    "       'Irritability', 'Apathy', 'Indecisiveness', 'Crying', 'Self-worth',\n",
    "       'Energy level', 'Sleep patterns', 'Appetite', 'Attention Span',\n",
    "       'Exhaustion', 'Libido', 'Q1', 'Q2', 'Q3', 'Q4', 'Q5', 'Q6', 'Q7', 'Q8',\n",
    "       'Q9', 'Q10', 'Q11', 'Q12', 'Q13', 'Q14', 'Q15', 'Q16', 'Q17', 'Q18',\n",
    "       'Q19', 'Q20', 'Q21', 'Q22', 'Q23', 'Q24', 'Q25', 'Q26', 'Q27', 'Q28',\n",
    "       'Q29', 'Q30', 'Q31', 'Q32', 'Q33', 'Q34', 'Q35', 'Q36', 'Q37', 'Q38',\n",
    "       'Q39', 'Q40', 'Q41', 'Q42', 'Q43', 'Q44', 'Q45', 'Q46', 'Q47', 'Q48',\n",
    "       'Q49', 'Q50', 'Q51', 'Q52', 'Q53', 'Q54', 'Q55', 'Q56', 'Q57', 'Q58',\n",
    "       'Q59', 'Q60', 'Q61', 'Q62', 'Q63', 'Q64', 'Q65', 'Q66', 'تاریخ شروع', 'تاریخ اتمام']"
   ]
  },
  {
   "cell_type": "code",
   "execution_count": 13,
   "id": "c2f66b0d",
   "metadata": {},
   "outputs": [],
   "source": [
    "df = df.rename(columns={\"BDI-II\": \"BDI_II\", \"Marital Status\": \"Marital_Status\"})"
   ]
  },
  {
   "cell_type": "code",
   "execution_count": 14,
   "id": "513a0c98",
   "metadata": {},
   "outputs": [],
   "source": [
    "df = df.drop(columns=columns, axis=1)"
   ]
  },
  {
   "cell_type": "code",
   "execution_count": 15,
   "id": "cd935f63",
   "metadata": {},
   "outputs": [
    {
     "data": {
      "text/html": [
       "<div>\n",
       "<style scoped>\n",
       "    .dataframe tbody tr th:only-of-type {\n",
       "        vertical-align: middle;\n",
       "    }\n",
       "\n",
       "    .dataframe tbody tr th {\n",
       "        vertical-align: top;\n",
       "    }\n",
       "\n",
       "    .dataframe thead th {\n",
       "        text-align: right;\n",
       "    }\n",
       "</style>\n",
       "<table border=\"1\" class=\"dataframe\">\n",
       "  <thead>\n",
       "    <tr style=\"text-align: right;\">\n",
       "      <th></th>\n",
       "      <th>Age</th>\n",
       "      <th>BDI_II</th>\n",
       "      <th>Extraversion</th>\n",
       "      <th>Psychoticism</th>\n",
       "      <th>IA_Level</th>\n",
       "    </tr>\n",
       "  </thead>\n",
       "  <tbody>\n",
       "    <tr>\n",
       "      <th>count</th>\n",
       "      <td>80.000000</td>\n",
       "      <td>80.000000</td>\n",
       "      <td>80.000000</td>\n",
       "      <td>80.000000</td>\n",
       "      <td>80.000000</td>\n",
       "    </tr>\n",
       "    <tr>\n",
       "      <th>mean</th>\n",
       "      <td>26.075000</td>\n",
       "      <td>35.275000</td>\n",
       "      <td>8.612500</td>\n",
       "      <td>5.825000</td>\n",
       "      <td>45.287500</td>\n",
       "    </tr>\n",
       "    <tr>\n",
       "      <th>std</th>\n",
       "      <td>9.293764</td>\n",
       "      <td>9.619304</td>\n",
       "      <td>4.150625</td>\n",
       "      <td>2.627869</td>\n",
       "      <td>15.083056</td>\n",
       "    </tr>\n",
       "    <tr>\n",
       "      <th>min</th>\n",
       "      <td>14.000000</td>\n",
       "      <td>21.000000</td>\n",
       "      <td>1.000000</td>\n",
       "      <td>0.000000</td>\n",
       "      <td>21.000000</td>\n",
       "    </tr>\n",
       "    <tr>\n",
       "      <th>25%</th>\n",
       "      <td>21.000000</td>\n",
       "      <td>29.000000</td>\n",
       "      <td>5.000000</td>\n",
       "      <td>4.000000</td>\n",
       "      <td>32.750000</td>\n",
       "    </tr>\n",
       "    <tr>\n",
       "      <th>50%</th>\n",
       "      <td>22.000000</td>\n",
       "      <td>34.000000</td>\n",
       "      <td>9.000000</td>\n",
       "      <td>6.000000</td>\n",
       "      <td>43.500000</td>\n",
       "    </tr>\n",
       "    <tr>\n",
       "      <th>75%</th>\n",
       "      <td>26.250000</td>\n",
       "      <td>39.000000</td>\n",
       "      <td>11.250000</td>\n",
       "      <td>7.000000</td>\n",
       "      <td>55.250000</td>\n",
       "    </tr>\n",
       "    <tr>\n",
       "      <th>max</th>\n",
       "      <td>48.000000</td>\n",
       "      <td>61.000000</td>\n",
       "      <td>17.000000</td>\n",
       "      <td>14.000000</td>\n",
       "      <td>83.000000</td>\n",
       "    </tr>\n",
       "  </tbody>\n",
       "</table>\n",
       "</div>"
      ],
      "text/plain": [
       "             Age     BDI_II  Extraversion  Psychoticism   IA_Level\n",
       "count  80.000000  80.000000     80.000000     80.000000  80.000000\n",
       "mean   26.075000  35.275000      8.612500      5.825000  45.287500\n",
       "std     9.293764   9.619304      4.150625      2.627869  15.083056\n",
       "min    14.000000  21.000000      1.000000      0.000000  21.000000\n",
       "25%    21.000000  29.000000      5.000000      4.000000  32.750000\n",
       "50%    22.000000  34.000000      9.000000      6.000000  43.500000\n",
       "75%    26.250000  39.000000     11.250000      7.000000  55.250000\n",
       "max    48.000000  61.000000     17.000000     14.000000  83.000000"
      ]
     },
     "execution_count": 15,
     "metadata": {},
     "output_type": "execute_result"
    }
   ],
   "source": [
    "num_cols = ['Age', 'BDI_II', 'Extraversion', 'Psychoticism', 'IA_Level']\n",
    "desc_stats = df[num_cols].describe(percentiles=[.25, .5, .75])\n",
    "desc_stats"
   ]
  },
  {
   "cell_type": "code",
   "execution_count": 16,
   "id": "c4266164",
   "metadata": {},
   "outputs": [
    {
     "data": {
      "text/plain": [
       "Gender  Marital_Status  Job  Education\n",
       "0       0               1    2            35.00\n",
       "        2               1    2             8.75\n",
       "        0               6    0             5.00\n",
       "        1               5    3             3.75\n",
       "        0               2    2             3.75\n",
       "1       1               5    5             2.50\n",
       "0       0               1    0             2.50\n",
       "        3               1    2             2.50\n",
       "        1               6    3             2.50\n",
       "        0               0    3             1.25\n",
       "                             1             1.25\n",
       "                        4    3             1.25\n",
       "                        5    6             1.25\n",
       "        1               0    3             1.25\n",
       "                        1    4             1.25\n",
       "                             2             1.25\n",
       "        0               4    4             1.25\n",
       "                             5             1.25\n",
       "                        5    4             1.25\n",
       "                        1    4             1.25\n",
       "        1               5    5             1.25\n",
       "                             4             1.25\n",
       "                             0             1.25\n",
       "                        2    3             1.25\n",
       "        3               0    0             1.25\n",
       "1       0               0    5             1.25\n",
       "                        1    2             1.25\n",
       "0       2               1    1             1.25\n",
       "1       0               1    3             1.25\n",
       "                        3    2             1.25\n",
       "                        4    3             1.25\n",
       "                             2             1.25\n",
       "        1               2    5             1.25\n",
       "                        5    0             1.25\n",
       "        2               1    4             1.25\n",
       "        3               1    2             1.25\n",
       "Name: proportion, dtype: float64"
      ]
     },
     "execution_count": 16,
     "metadata": {},
     "output_type": "execute_result"
    }
   ],
   "source": [
    "cat_cols = ['Gender', 'Marital_Status', 'Job', 'Education']\n",
    "cat_stats = df[cat_cols].value_counts(normalize=True) * 100\n",
    "cat_stats"
   ]
  },
  {
   "cell_type": "code",
   "execution_count": 17,
   "id": "1da3777c",
   "metadata": {},
   "outputs": [
    {
     "data": {
      "text/plain": [
       "<Axes: xlabel='Gender', ylabel='count'>"
      ]
     },
     "execution_count": 17,
     "metadata": {},
     "output_type": "execute_result"
    },
    {
     "data": {
      "image/png": "[encoded data removed]",
      "text/plain": [
       "<Figure size 640x480 with 1 Axes>"
      ]
     },
     "metadata": {},
     "output_type": "display_data"
    }
   ],
   "source": [
    "sns.countplot(data=df, x='Gender')"
   ]
  },
  {
   "cell_type": "code",
   "execution_count": 18,
   "id": "ba8159ba",
   "metadata": {},
   "outputs": [
    {
     "data": {
      "text/plain": [
       "<Axes: ylabel='count'>"
      ]
     },
     "execution_count": 18,
     "metadata": {},
     "output_type": "execute_result"
    },
    {
     "data": {
      "image/png": "[encoded data removed]",
      "text/plain": [
       "<Figure size 640x480 with 1 Axes>"
      ]
     },
     "metadata": {},
     "output_type": "display_data"
    }
   ],
   "source": [
    "df['Marital_Status'].value_counts().plot.pie(autopct='%1.1f%%')"
   ]
  },
  {
   "cell_type": "code",
   "execution_count": 19,
   "id": "854bd09e",
   "metadata": {},
   "outputs": [
    {
     "data": {
      "text/plain": [
       "<Axes: xlabel='Age', ylabel='Count'>"
      ]
     },
     "execution_count": 19,
     "metadata": {},
     "output_type": "execute_result"
    },
    {
     "data": {
      "image/png": "[encoded data removed]",
      "text/plain": [
       "<Figure size 640x480 with 1 Axes>"
      ]
     },
     "metadata": {},
     "output_type": "display_data"
    }
   ],
   "source": [
    "sns.histplot(data=df, x='Age', kde=True)"
   ]
  },
  {
   "cell_type": "code",
   "execution_count": 20,
   "id": "d6897f11",
   "metadata": {},
   "outputs": [
    {
     "data": {
      "text/plain": [
       "<Axes: xlabel='Extraversion', ylabel='IA_Level'>"
      ]
     },
     "execution_count": 20,
     "metadata": {},
     "output_type": "execute_result"
    },
    {
     "data": {
      "image/png": "[encoded data removed]",
      "text/plain": [
       "<Figure size 640x480 with 1 Axes>"
      ]
     },
     "metadata": {},
     "output_type": "display_data"
    }
   ],
   "source": [
    "sns.scatterplot(data=df, x='Extraversion', y='IA_Level')"
   ]
  },
  {
   "cell_type": "code",
   "execution_count": 21,
   "id": "b0bc87f3",
   "metadata": {},
   "outputs": [
    {
     "data": {
      "text/plain": [
       "<Axes: xlabel='Psychoticism', ylabel='IA_Level'>"
      ]
     },
     "execution_count": 21,
     "metadata": {},
     "output_type": "execute_result"
    },
    {
     "data": {
      "image/png": "[encoded data removed]",
      "text/plain": [
       "<Figure size 640x480 with 1 Axes>"
      ]
     },
     "metadata": {},
     "output_type": "display_data"
    }
   ],
   "source": [
    "sns.scatterplot(data=df, x='Psychoticism', y='IA_Level')"
   ]
  },
  {
   "cell_type": "code",
   "execution_count": 22,
   "id": "aa61c025",
   "metadata": {},
   "outputs": [
    {
     "data": {
      "text/plain": [
       "<Axes: xlabel='BDI_II', ylabel='IA_Level'>"
      ]
     },
     "execution_count": 22,
     "metadata": {},
     "output_type": "execute_result"
    },
    {
     "data": {
      "image/png": "[encoded data removed]",
      "text/plain": [
       "<Figure size 640x480 with 1 Axes>"
      ]
     },
     "metadata": {},
     "output_type": "display_data"
    }
   ],
   "source": [
    "sns.scatterplot(data=df, x='BDI_II', y='IA_Level')"
   ]
  },
  {
   "cell_type": "code",
   "execution_count": 23,
   "id": "0bd700ec",
   "metadata": {},
   "outputs": [
    {
     "data": {
      "text/plain": [
       "<Axes: xlabel='Age', ylabel='IA_Level'>"
      ]
     },
     "execution_count": 23,
     "metadata": {},
     "output_type": "execute_result"
    },
    {
     "data": {
      "image/png": "[encoded data removed]",
      "text/plain": [
       "<Figure size 640x480 with 1 Axes>"
      ]
     },
     "metadata": {},
     "output_type": "display_data"
    }
   ],
   "source": [
    "sns.scatterplot(data=df, x='Age', y='IA_Level')"
   ]
  },
  {
   "cell_type": "code",
   "execution_count": 24,
   "id": "40a893af",
   "metadata": {},
   "outputs": [
    {
     "data": {
      "text/plain": [
       "<Axes: xlabel=' زمان', ylabel='IA_Level'>"
      ]
     },
     "execution_count": 24,
     "metadata": {},
     "output_type": "execute_result"
    },
    {
     "data": {
      "image/png": "[encoded data removed]",
      "text/plain": [
       "<Figure size 640x480 with 1 Axes>"
      ]
     },
     "metadata": {},
     "output_type": "display_data"
    }
   ],
   "source": [
    "sns.scatterplot(data=df, x=' زمان', y='IA_Level')"
   ]
  },
  {
   "cell_type": "code",
   "execution_count": 25,
   "id": "3a25ca66",
   "metadata": {},
   "outputs": [
    {
     "data": {
      "text/plain": [
       "<Axes: xlabel='Gender', ylabel='IA_Level'>"
      ]
     },
     "execution_count": 25,
     "metadata": {},
     "output_type": "execute_result"
    },
    {
     "data": {
      "image/png": "[encoded data removed]",
      "text/plain": [
       "<Figure size 640x480 with 1 Axes>"
      ]
     },
     "metadata": {},
     "output_type": "display_data"
    }
   ],
   "source": [
    "sns.boxplot(data=df, x='Gender', y='IA_Level')"
   ]
  },
  {
   "cell_type": "code",
   "execution_count": 26,
   "id": "2bb61bda",
   "metadata": {},
   "outputs": [
    {
     "data": {
      "text/plain": [
       "<Axes: xlabel='Marital_Status', ylabel='IA_Level'>"
      ]
     },
     "execution_count": 26,
     "metadata": {},
     "output_type": "execute_result"
    },
    {
     "data": {
      "image/png": "[encoded data removed]",
      "text/plain": [
       "<Figure size 640x480 with 1 Axes>"
      ]
     },
     "metadata": {},
     "output_type": "display_data"
    }
   ],
   "source": [
    "sns.boxplot(data=df, x='Marital_Status', y='IA_Level')"
   ]
  },
  {
   "cell_type": "code",
   "execution_count": 27,
   "id": "a42e3a96",
   "metadata": {},
   "outputs": [
    {
     "data": {
      "text/plain": [
       "<Axes: xlabel='Job', ylabel='IA_Level'>"
      ]
     },
     "execution_count": 27,
     "metadata": {},
     "output_type": "execute_result"
    },
    {
     "data": {
      "image/png": "[encoded data removed]",
      "text/plain": [
       "<Figure size 640x480 with 1 Axes>"
      ]
     },
     "metadata": {},
     "output_type": "display_data"
    }
   ],
   "source": [
    "sns.boxplot(data=df, x='Job', y='IA_Level')"
   ]
  },
  {
   "cell_type": "code",
   "execution_count": 28,
   "id": "86380e15",
   "metadata": {},
   "outputs": [
    {
     "data": {
      "text/plain": [
       "<Axes: xlabel=' زمان', ylabel='IA_Level'>"
      ]
     },
     "execution_count": 28,
     "metadata": {},
     "output_type": "execute_result"
    },
    {
     "data": {
      "image/png": "[encoded data removed]",
      "text/plain": [
       "<Figure size 640x480 with 1 Axes>"
      ]
     },
     "metadata": {},
     "output_type": "display_data"
    }
   ],
   "source": [
    "sns.scatterplot(data=df, x=' زمان', y='IA_Level')"
   ]
  },
  {
   "cell_type": "code",
   "execution_count": 29,
   "id": "3f08c363",
   "metadata": {},
   "outputs": [
    {
     "data": {
      "text/html": [
       "<div>\n",
       "<style scoped>\n",
       "    .dataframe tbody tr th:only-of-type {\n",
       "        vertical-align: middle;\n",
       "    }\n",
       "\n",
       "    .dataframe tbody tr th {\n",
       "        vertical-align: top;\n",
       "    }\n",
       "\n",
       "    .dataframe thead th {\n",
       "        text-align: right;\n",
       "    }\n",
       "</style>\n",
       "<table border=\"1\" class=\"dataframe\">\n",
       "  <thead>\n",
       "    <tr style=\"text-align: right;\">\n",
       "      <th></th>\n",
       "      <th>Gender</th>\n",
       "      <th>Age</th>\n",
       "      <th>Marital_Status</th>\n",
       "      <th>Job</th>\n",
       "      <th>Education</th>\n",
       "      <th>زمان</th>\n",
       "      <th>BDI_II</th>\n",
       "      <th>Extraversion</th>\n",
       "      <th>Psychoticism</th>\n",
       "      <th>IA_Level</th>\n",
       "      <th>bdi_fact</th>\n",
       "      <th>Ex_fact</th>\n",
       "      <th>Psy_fact</th>\n",
       "      <th>IA_fact</th>\n",
       "    </tr>\n",
       "  </thead>\n",
       "  <tbody>\n",
       "    <tr>\n",
       "      <th>0</th>\n",
       "      <td>0</td>\n",
       "      <td>15</td>\n",
       "      <td>0</td>\n",
       "      <td>6</td>\n",
       "      <td>0</td>\n",
       "      <td>1127</td>\n",
       "      <td>36</td>\n",
       "      <td>9</td>\n",
       "      <td>5</td>\n",
       "      <td>43</td>\n",
       "      <td>Mid</td>\n",
       "      <td>Extravert</td>\n",
       "      <td>Mid</td>\n",
       "      <td>Mid</td>\n",
       "    </tr>\n",
       "    <tr>\n",
       "      <th>1</th>\n",
       "      <td>0</td>\n",
       "      <td>42</td>\n",
       "      <td>0</td>\n",
       "      <td>4</td>\n",
       "      <td>3</td>\n",
       "      <td>715</td>\n",
       "      <td>34</td>\n",
       "      <td>8</td>\n",
       "      <td>5</td>\n",
       "      <td>29</td>\n",
       "      <td>Low</td>\n",
       "      <td>Extravert</td>\n",
       "      <td>Mid</td>\n",
       "      <td>Low</td>\n",
       "    </tr>\n",
       "    <tr>\n",
       "      <th>2</th>\n",
       "      <td>1</td>\n",
       "      <td>42</td>\n",
       "      <td>1</td>\n",
       "      <td>2</td>\n",
       "      <td>5</td>\n",
       "      <td>697</td>\n",
       "      <td>45</td>\n",
       "      <td>11</td>\n",
       "      <td>4</td>\n",
       "      <td>65</td>\n",
       "      <td>Mid</td>\n",
       "      <td>Intravert</td>\n",
       "      <td>Low</td>\n",
       "      <td>High</td>\n",
       "    </tr>\n",
       "    <tr>\n",
       "      <th>3</th>\n",
       "      <td>0</td>\n",
       "      <td>21</td>\n",
       "      <td>0</td>\n",
       "      <td>1</td>\n",
       "      <td>2</td>\n",
       "      <td>652</td>\n",
       "      <td>36</td>\n",
       "      <td>11</td>\n",
       "      <td>2</td>\n",
       "      <td>44</td>\n",
       "      <td>Mid</td>\n",
       "      <td>Intravert</td>\n",
       "      <td>Low</td>\n",
       "      <td>Mid</td>\n",
       "    </tr>\n",
       "    <tr>\n",
       "      <th>4</th>\n",
       "      <td>0</td>\n",
       "      <td>21</td>\n",
       "      <td>2</td>\n",
       "      <td>1</td>\n",
       "      <td>2</td>\n",
       "      <td>738</td>\n",
       "      <td>32</td>\n",
       "      <td>9</td>\n",
       "      <td>5</td>\n",
       "      <td>64</td>\n",
       "      <td>Low</td>\n",
       "      <td>Extravert</td>\n",
       "      <td>Mid</td>\n",
       "      <td>High</td>\n",
       "    </tr>\n",
       "    <tr>\n",
       "      <th>...</th>\n",
       "      <td>...</td>\n",
       "      <td>...</td>\n",
       "      <td>...</td>\n",
       "      <td>...</td>\n",
       "      <td>...</td>\n",
       "      <td>...</td>\n",
       "      <td>...</td>\n",
       "      <td>...</td>\n",
       "      <td>...</td>\n",
       "      <td>...</td>\n",
       "      <td>...</td>\n",
       "      <td>...</td>\n",
       "      <td>...</td>\n",
       "      <td>...</td>\n",
       "    </tr>\n",
       "    <tr>\n",
       "      <th>75</th>\n",
       "      <td>0</td>\n",
       "      <td>24</td>\n",
       "      <td>0</td>\n",
       "      <td>2</td>\n",
       "      <td>2</td>\n",
       "      <td>722</td>\n",
       "      <td>34</td>\n",
       "      <td>11</td>\n",
       "      <td>5</td>\n",
       "      <td>36</td>\n",
       "      <td>Low</td>\n",
       "      <td>Intravert</td>\n",
       "      <td>Mid</td>\n",
       "      <td>Low</td>\n",
       "    </tr>\n",
       "    <tr>\n",
       "      <th>76</th>\n",
       "      <td>0</td>\n",
       "      <td>20</td>\n",
       "      <td>0</td>\n",
       "      <td>1</td>\n",
       "      <td>0</td>\n",
       "      <td>438</td>\n",
       "      <td>35</td>\n",
       "      <td>16</td>\n",
       "      <td>11</td>\n",
       "      <td>66</td>\n",
       "      <td>Mid</td>\n",
       "      <td>Intravert</td>\n",
       "      <td>High</td>\n",
       "      <td>High</td>\n",
       "    </tr>\n",
       "    <tr>\n",
       "      <th>77</th>\n",
       "      <td>0</td>\n",
       "      <td>22</td>\n",
       "      <td>0</td>\n",
       "      <td>1</td>\n",
       "      <td>2</td>\n",
       "      <td>693</td>\n",
       "      <td>32</td>\n",
       "      <td>15</td>\n",
       "      <td>6</td>\n",
       "      <td>71</td>\n",
       "      <td>Low</td>\n",
       "      <td>Intravert</td>\n",
       "      <td>Mid</td>\n",
       "      <td>High</td>\n",
       "    </tr>\n",
       "    <tr>\n",
       "      <th>78</th>\n",
       "      <td>0</td>\n",
       "      <td>22</td>\n",
       "      <td>0</td>\n",
       "      <td>1</td>\n",
       "      <td>2</td>\n",
       "      <td>782</td>\n",
       "      <td>56</td>\n",
       "      <td>6</td>\n",
       "      <td>14</td>\n",
       "      <td>65</td>\n",
       "      <td>High</td>\n",
       "      <td>Extravert</td>\n",
       "      <td>High</td>\n",
       "      <td>High</td>\n",
       "    </tr>\n",
       "    <tr>\n",
       "      <th>79</th>\n",
       "      <td>0</td>\n",
       "      <td>20</td>\n",
       "      <td>0</td>\n",
       "      <td>1</td>\n",
       "      <td>2</td>\n",
       "      <td>968</td>\n",
       "      <td>46</td>\n",
       "      <td>3</td>\n",
       "      <td>6</td>\n",
       "      <td>74</td>\n",
       "      <td>Mid</td>\n",
       "      <td>Extravert</td>\n",
       "      <td>Mid</td>\n",
       "      <td>High</td>\n",
       "    </tr>\n",
       "  </tbody>\n",
       "</table>\n",
       "<p>80 rows × 14 columns</p>\n",
       "</div>"
      ],
      "text/plain": [
       "    Gender  Age  Marital_Status  Job  Education   زمان  BDI_II  Extraversion  \\\n",
       "0        0   15               0    6          0   1127      36             9   \n",
       "1        0   42               0    4          3    715      34             8   \n",
       "2        1   42               1    2          5    697      45            11   \n",
       "3        0   21               0    1          2    652      36            11   \n",
       "4        0   21               2    1          2    738      32             9   \n",
       "..     ...  ...             ...  ...        ...    ...     ...           ...   \n",
       "75       0   24               0    2          2    722      34            11   \n",
       "76       0   20               0    1          0    438      35            16   \n",
       "77       0   22               0    1          2    693      32            15   \n",
       "78       0   22               0    1          2    782      56             6   \n",
       "79       0   20               0    1          2    968      46             3   \n",
       "\n",
       "    Psychoticism  IA_Level bdi_fact    Ex_fact Psy_fact IA_fact  \n",
       "0              5        43      Mid  Extravert      Mid     Mid  \n",
       "1              5        29      Low  Extravert      Mid     Low  \n",
       "2              4        65      Mid  Intravert      Low    High  \n",
       "3              2        44      Mid  Intravert      Low     Mid  \n",
       "4              5        64      Low  Extravert      Mid    High  \n",
       "..           ...       ...      ...        ...      ...     ...  \n",
       "75             5        36      Low  Intravert      Mid     Low  \n",
       "76            11        66      Mid  Intravert     High    High  \n",
       "77             6        71      Low  Intravert      Mid    High  \n",
       "78            14        65     High  Extravert     High    High  \n",
       "79             6        74      Mid  Extravert      Mid    High  \n",
       "\n",
       "[80 rows x 14 columns]"
      ]
     },
     "execution_count": 29,
     "metadata": {},
     "output_type": "execute_result"
    }
   ],
   "source": [
    "df"
   ]
  },
  {
   "cell_type": "markdown",
   "id": "09750459",
   "metadata": {},
   "source": [
    "### Normality tests"
   ]
  },
  {
   "cell_type": "code",
   "execution_count": 30,
   "id": "d528b6f0",
   "metadata": {},
   "outputs": [],
   "source": [
    "from scipy.stats import skew"
   ]
  },
  {
   "cell_type": "code",
   "execution_count": 31,
   "id": "d8c6ba8e",
   "metadata": {},
   "outputs": [
    {
     "name": "stdout",
     "output_type": "stream",
     "text": [
      "Skewness:\n",
      "BDI_II            0.707049\n",
      "Extraversion      0.210884\n",
      "Psychoticism      0.848522\n",
      "IA_Level          0.367534\n",
      "Gender            1.960392\n",
      "Age               1.341990\n",
      "Marital_Status    1.382113\n",
      "Job               0.982323\n",
      "Education         0.465588\n",
      " زمان             8.129941\n",
      "dtype: float64\n"
     ]
    }
   ],
   "source": [
    "columns = ['BDI_II', 'Extraversion', 'Psychoticism', 'IA_Level', 'Gender', 'Age', 'Marital_Status', 'Job', 'Education', ' زمان']\n",
    "\n",
    "skewness = df[columns].apply(lambda x: skew(x))\n",
    "print(\"Skewness:\")\n",
    "print(skewness)"
   ]
  },
  {
   "cell_type": "code",
   "execution_count": 32,
   "id": "a18ef8e6",
   "metadata": {},
   "outputs": [
    {
     "name": "stdout",
     "output_type": "stream",
     "text": [
      "Male BDI shapiro p-value: 0.3349 and Female BDI Shapiro p-value: 0.0009945775778703325\n"
     ]
    }
   ],
   "source": [
    "male_BDI = df[df[\"Gender\"] == 1][\"BDI_II\"]\n",
    "fm_BDI = df[df[\"Gender\"] == 0][\"BDI_II\"]\n",
    "\n",
    "m_stat, m_p = stats.shapiro(male_BDI)\n",
    "fm_stat, fm_p = stats.shapiro(fm_BDI)\n",
    "\n",
    "print(f\"Male BDI shapiro p-value: {m_p:.4f} and Female BDI Shapiro p-value: {fm_p}\")"
   ]
  },
  {
   "cell_type": "code",
   "execution_count": 33,
   "id": "9c439d9c",
   "metadata": {},
   "outputs": [
    {
     "name": "stdout",
     "output_type": "stream",
     "text": [
      "Shapiro-Wilk Test: p-value = 0.0000\n",
      "Data is NOT normally distributed (reject H0)\n"
     ]
    }
   ],
   "source": [
    "stat, p = stats.shapiro(df['Education'])\n",
    "print(f\"Shapiro-Wilk Test: p-value = {p:.4f}\")\n",
    "if p > 0.05:\n",
    "    print(\"Data is normally distributed (fail to reject H0)\")\n",
    "else:\n",
    "    print(\"Data is NOT normally distributed (reject H0)\")"
   ]
  },
  {
   "cell_type": "code",
   "execution_count": 34,
   "id": "eaa9ab71",
   "metadata": {},
   "outputs": [
    {
     "data": {
      "text/plain": [
       "<Axes: xlabel='BDI_II', ylabel='Count'>"
      ]
     },
     "execution_count": 34,
     "metadata": {},
     "output_type": "execute_result"
    },
    {
     "data": {
      "image/png": "[encoded data removed]",
      "text/plain": [
       "<Figure size 640x480 with 1 Axes>"
      ]
     },
     "metadata": {},
     "output_type": "display_data"
    }
   ],
   "source": [
    "sns.histplot(data=df, x='BDI_II', kde=True)"
   ]
  },
  {
   "cell_type": "code",
   "execution_count": 35,
   "id": "e29450f5",
   "metadata": {},
   "outputs": [
    {
     "data": {
      "text/plain": [
       "<seaborn.axisgrid.PairGrid at 0x24ee56826c0>"
      ]
     },
     "execution_count": 35,
     "metadata": {},
     "output_type": "execute_result"
    },
    {
     "data": {
      "image/png": "[encoded data removed]",
      "text/plain": [
       "<Figure size 800x400 with 1 Axes>"
      ]
     },
     "metadata": {},
     "output_type": "display_data"
    }
   ],
   "source": [
    "pplot(data=df, x=\"BDI_II\", y=\"IA_Level\", kind='qq', height=4, aspect=2)"
   ]
  },
  {
   "cell_type": "code",
   "execution_count": 36,
   "id": "43892776",
   "metadata": {},
   "outputs": [
    {
     "name": "stdout",
     "output_type": "stream",
     "text": [
      "Shapiro-Wilk Test: p-value = 0.0000\n",
      "Data is NOT normally distributed (reject H0)\n"
     ]
    }
   ],
   "source": [
    "stat, p = stats.shapiro(df['Education'])\n",
    "print(f\"Shapiro-Wilk Test: p-value = {p:.4f}\")\n",
    "if p > 0.05:\n",
    "    print(\"Data is normally distributed (fail to reject H0)\")\n",
    "else:\n",
    "    print(\"Data is NOT normally distributed (reject H0)\")\n",
    "    "
   ]
  },
  {
   "cell_type": "code",
   "execution_count": 37,
   "id": "5faa8c84",
   "metadata": {},
   "outputs": [
    {
     "data": {
      "text/plain": [
       "<Axes: xlabel='Education', ylabel='Count'>"
      ]
     },
     "execution_count": 37,
     "metadata": {},
     "output_type": "execute_result"
    },
    {
     "data": {
      "image/png": "[encoded data removed]",
      "text/plain": [
       "<Figure size 640x480 with 1 Axes>"
      ]
     },
     "metadata": {},
     "output_type": "display_data"
    }
   ],
   "source": [
    "sns.histplot(data=df, x='Education', kde=True)"
   ]
  },
  {
   "cell_type": "code",
   "execution_count": 38,
   "id": "6fa3fa85",
   "metadata": {},
   "outputs": [
    {
     "data": {
      "text/plain": [
       "<seaborn.axisgrid.PairGrid at 0x24ee7beb860>"
      ]
     },
     "execution_count": 38,
     "metadata": {},
     "output_type": "execute_result"
    },
    {
     "data": {
      "image/png": "[encoded data removed]",
      "text/plain": [
       "<Figure size 800x400 with 1 Axes>"
      ]
     },
     "metadata": {},
     "output_type": "display_data"
    }
   ],
   "source": [
    "pplot(data=df, x=\"Education\", y=\"IA_Level\", kind='qq', height=4, aspect=2)"
   ]
  },
  {
   "cell_type": "code",
   "execution_count": 39,
   "id": "d1b21acb",
   "metadata": {},
   "outputs": [
    {
     "name": "stdout",
     "output_type": "stream",
     "text": [
      "Male Extraversion shapiro p-value: 0.3887 and Female Extraversion Shapiro p-value: 0.1912162927300966\n"
     ]
    }
   ],
   "source": [
    "Male_Ex = df[df['Gender'] == 1]['Extraversion']\n",
    "FM_EX = df[df['Gender'] == 0]['Extraversion']\n",
    "\n",
    "m_stat, m_p = stats.shapiro(Male_Ex)\n",
    "fm_stat, fm_p = stats.shapiro(FM_EX)\n",
    "\n",
    "print(f\"Male Extraversion shapiro p-value: {m_p:.4f} and Female Extraversion Shapiro p-value: {fm_p}\")"
   ]
  },
  {
   "cell_type": "code",
   "execution_count": 40,
   "id": "a841001d",
   "metadata": {},
   "outputs": [
    {
     "name": "stdout",
     "output_type": "stream",
     "text": [
      "Shapiro-Wilk Test: p-value = 0.0798\n",
      "Data is normally distributed (fail to reject H0)\n"
     ]
    }
   ],
   "source": [
    "stat, p = stats.shapiro(df['Extraversion'])\n",
    "print(f\"Shapiro-Wilk Test: p-value = {p:.4f}\")\n",
    "if p > 0.05:\n",
    "    print(\"Data is normally distributed (fail to reject H0)\")\n",
    "else:\n",
    "    print(\"Data is NOT normally distributed (reject H0)\")\n",
    "    "
   ]
  },
  {
   "cell_type": "code",
   "execution_count": 41,
   "id": "bfcfaf5b",
   "metadata": {},
   "outputs": [
    {
     "data": {
      "text/plain": [
       "<Axes: xlabel='Extraversion', ylabel='Count'>"
      ]
     },
     "execution_count": 41,
     "metadata": {},
     "output_type": "execute_result"
    },
    {
     "data": {
      "image/png": "[encoded data removed]",
      "text/plain": [
       "<Figure size 640x480 with 1 Axes>"
      ]
     },
     "metadata": {},
     "output_type": "display_data"
    }
   ],
   "source": [
    "sns.histplot(data=df, x='Extraversion', kde=True)"
   ]
  },
  {
   "cell_type": "code",
   "execution_count": 42,
   "id": "0cb7f983",
   "metadata": {},
   "outputs": [
    {
     "data": {
      "text/plain": [
       "<seaborn.axisgrid.PairGrid at 0x24ee7a74230>"
      ]
     },
     "execution_count": 42,
     "metadata": {},
     "output_type": "execute_result"
    },
    {
     "data": {
      "image/png": "[encoded data removed]",
      "text/plain": [
       "<Figure size 800x400 with 1 Axes>"
      ]
     },
     "metadata": {},
     "output_type": "display_data"
    }
   ],
   "source": [
    "pplot(data=df, x=\"Extraversion\", y=\"IA_Level\", kind='qq', height=4, aspect=2)"
   ]
  },
  {
   "cell_type": "code",
   "execution_count": 43,
   "id": "e5c37a8c",
   "metadata": {},
   "outputs": [
    {
     "name": "stdout",
     "output_type": "stream",
     "text": [
      "Male Psychoticism shapiro p-value: 0.1331 and Female Psychoticism Shapiro p-value: 0.000509477761494168\n"
     ]
    }
   ],
   "source": [
    "Male_Ex = df[df['Gender'] == 1]['Psychoticism']\n",
    "FM_EX = df[df['Gender'] == 0]['Psychoticism']\n",
    "\n",
    "m_stat, m_p = stats.shapiro(Male_Ex)\n",
    "fm_stat, fm_p = stats.shapiro(FM_EX)\n",
    "\n",
    "print(f\"Male Psychoticism shapiro p-value: {m_p:.4f} and Female Psychoticism Shapiro p-value: {fm_p}\")"
   ]
  },
  {
   "cell_type": "code",
   "execution_count": 44,
   "id": "9e93a64b",
   "metadata": {},
   "outputs": [
    {
     "name": "stdout",
     "output_type": "stream",
     "text": [
      "Shapiro-Wilk Test: p-value = 0.0004\n",
      "Data is NOT normally distributed (reject H0)\n"
     ]
    }
   ],
   "source": [
    "stat, p = stats.shapiro(df['Psychoticism'])\n",
    "print(f\"Shapiro-Wilk Test: p-value = {p:.4f}\")\n",
    "if p > 0.05:\n",
    "    print(\"Data is normally distributed (fail to reject H0)\")\n",
    "else:\n",
    "    print(\"Data is NOT normally distributed (reject H0)\")\n",
    "    "
   ]
  },
  {
   "cell_type": "code",
   "execution_count": 45,
   "id": "d0da86fe",
   "metadata": {},
   "outputs": [
    {
     "data": {
      "text/plain": [
       "<Axes: xlabel='Psychoticism', ylabel='Count'>"
      ]
     },
     "execution_count": 45,
     "metadata": {},
     "output_type": "execute_result"
    },
    {
     "data": {
      "image/png": "[encoded data removed]",
      "text/plain": [
       "<Figure size 640x480 with 1 Axes>"
      ]
     },
     "metadata": {},
     "output_type": "display_data"
    }
   ],
   "source": [
    "sns.histplot(data=df, x='Psychoticism', kde=True)"
   ]
  },
  {
   "cell_type": "code",
   "execution_count": 46,
   "id": "6d34c519",
   "metadata": {},
   "outputs": [
    {
     "data": {
      "text/plain": [
       "<seaborn.axisgrid.PairGrid at 0x24ee7bf6ae0>"
      ]
     },
     "execution_count": 46,
     "metadata": {},
     "output_type": "execute_result"
    },
    {
     "data": {
      "image/png": "[encoded data removed]",
      "text/plain": [
       "<Figure size 800x400 with 1 Axes>"
      ]
     },
     "metadata": {},
     "output_type": "display_data"
    }
   ],
   "source": [
    "pplot(data=df, x=\"Psychoticism\", y=\"IA_Level\", kind='qq', height=4, aspect=2)"
   ]
  },
  {
   "cell_type": "code",
   "execution_count": 47,
   "id": "c5651730",
   "metadata": {},
   "outputs": [
    {
     "name": "stdout",
     "output_type": "stream",
     "text": [
      "Shapiro-Wilk Test: p-value = 0.0456\n",
      "Data is NOT normally distributed (reject H0)\n"
     ]
    }
   ],
   "source": [
    "stat, p = stats.shapiro(df['IA_Level'])\n",
    "print(f\"Shapiro-Wilk Test: p-value = {p:.4f}\")\n",
    "if p > 0.05:\n",
    "    print(\"Data is normally distributed (fail to reject H0)\")\n",
    "else:\n",
    "    print(\"Data is NOT normally distributed (reject H0)\")\n",
    "    "
   ]
  },
  {
   "cell_type": "code",
   "execution_count": 48,
   "id": "cc4450ff",
   "metadata": {},
   "outputs": [
    {
     "data": {
      "text/plain": [
       "<Axes: xlabel='IA_Level', ylabel='Count'>"
      ]
     },
     "execution_count": 48,
     "metadata": {},
     "output_type": "execute_result"
    },
    {
     "data": {
      "image/png": "[encoded data removed]",
      "text/plain": [
       "<Figure size 640x480 with 1 Axes>"
      ]
     },
     "metadata": {},
     "output_type": "display_data"
    }
   ],
   "source": [
    "sns.histplot(data=df, x='IA_Level', kde=True)"
   ]
  },
  {
   "cell_type": "code",
   "execution_count": 49,
   "id": "d7355425",
   "metadata": {},
   "outputs": [
    {
     "name": "stdout",
     "output_type": "stream",
     "text": [
      "Male group p-value = 0.9249 and female group p-value = 0.0644\n"
     ]
    }
   ],
   "source": [
    "male_scores = df[df['Gender'] == 1]['IA_Level']\n",
    "female_scores = df[df['Gender'] == 0]['IA_Level']\n",
    "\n",
    "stat_male, p_male = stats.shapiro(male_scores)\n",
    "stat_fm, p_fm = stats.shapiro(female_scores)\n",
    "\n",
    "print(f\"Male group p-value = {p_male:.4f} and female group p-value = {p_fm:.4f}\")"
   ]
  },
  {
   "cell_type": "code",
   "execution_count": 50,
   "id": "caebdf03",
   "metadata": {},
   "outputs": [
    {
     "name": "stdout",
     "output_type": "stream",
     "text": [
      "Shapiro-Wilk Test: p-value = 0.0000\n",
      "Data is NOT normally distributed (reject H0)\n"
     ]
    }
   ],
   "source": [
    "stat, p = stats.shapiro(df['Age'])\n",
    "print(f\"Shapiro-Wilk Test: p-value = {p:.4f}\")\n",
    "if p > 0.05:\n",
    "    print(\"Data is normally distributed (fail to reject H0)\")\n",
    "else:\n",
    "    print(\"Data is NOT normally distributed (reject H0)\")\n",
    "    "
   ]
  },
  {
   "cell_type": "code",
   "execution_count": 51,
   "id": "49bed49f",
   "metadata": {},
   "outputs": [
    {
     "data": {
      "text/plain": [
       "<Axes: xlabel='Age', ylabel='Count'>"
      ]
     },
     "execution_count": 51,
     "metadata": {},
     "output_type": "execute_result"
    },
    {
     "data": {
      "image/png": "[encoded data removed]",
      "text/plain": [
       "<Figure size 640x480 with 1 Axes>"
      ]
     },
     "metadata": {},
     "output_type": "display_data"
    }
   ],
   "source": [
    "sns.histplot(data=df, x='Age', kde=True)"
   ]
  },
  {
   "cell_type": "code",
   "execution_count": 52,
   "id": "c043683c",
   "metadata": {},
   "outputs": [
    {
     "data": {
      "text/plain": [
       "<seaborn.axisgrid.PairGrid at 0x24ee56fe360>"
      ]
     },
     "execution_count": 52,
     "metadata": {},
     "output_type": "execute_result"
    },
    {
     "data": {
      "image/png": "[encoded data removed]",
      "text/plain": [
       "<Figure size 800x400 with 1 Axes>"
      ]
     },
     "metadata": {},
     "output_type": "display_data"
    }
   ],
   "source": [
    "pplot(data=df, x=\"Age\", y=\"IA_Level\", kind='qq', height=4, aspect=2)"
   ]
  },
  {
   "cell_type": "code",
   "execution_count": 53,
   "id": "89b079f1",
   "metadata": {},
   "outputs": [
    {
     "name": "stdout",
     "output_type": "stream",
     "text": [
      "Shapiro-Wilk Test: p-value = 0.0000\n",
      "Data is NOT normally distributed (reject H0)\n"
     ]
    }
   ],
   "source": [
    "stat, p = stats.shapiro(df['Marital_Status'])\n",
    "print(f\"Shapiro-Wilk Test: p-value = {p:.4f}\")\n",
    "if p > 0.05:\n",
    "    print(\"Data is normally distributed (fail to reject H0)\")\n",
    "else:\n",
    "    print(\"Data is NOT normally distributed (reject H0)\")\n",
    "    "
   ]
  },
  {
   "cell_type": "code",
   "execution_count": 54,
   "id": "e86cb14b",
   "metadata": {},
   "outputs": [
    {
     "data": {
      "text/plain": [
       "<Axes: xlabel='Marital_Status', ylabel='Count'>"
      ]
     },
     "execution_count": 54,
     "metadata": {},
     "output_type": "execute_result"
    },
    {
     "data": {
      "image/png": "[encoded data removed]",
      "text/plain": [
       "<Figure size 640x480 with 1 Axes>"
      ]
     },
     "metadata": {},
     "output_type": "display_data"
    }
   ],
   "source": [
    "sns.histplot(data=df, x='Marital_Status', kde=True)"
   ]
  },
  {
   "cell_type": "code",
   "execution_count": 55,
   "id": "4413a5ed",
   "metadata": {},
   "outputs": [
    {
     "data": {
      "text/plain": [
       "<seaborn.axisgrid.PairGrid at 0x24ee3418f20>"
      ]
     },
     "execution_count": 55,
     "metadata": {},
     "output_type": "execute_result"
    },
    {
     "data": {
      "image/png": "[encoded data removed]",
      "text/plain": [
       "<Figure size 800x400 with 1 Axes>"
      ]
     },
     "metadata": {},
     "output_type": "display_data"
    }
   ],
   "source": [
    "pplot(data=df, x=\"Marital_Status\", y=\"IA_Level\", kind='qq', height=4, aspect=2)"
   ]
  },
  {
   "cell_type": "code",
   "execution_count": 56,
   "id": "5949d84f",
   "metadata": {},
   "outputs": [
    {
     "name": "stdout",
     "output_type": "stream",
     "text": [
      "Shapiro-Wilk Test: p-value = 0.0000\n",
      "Data is NOT normally distributed (reject H0)\n"
     ]
    }
   ],
   "source": [
    "stat, p = stats.shapiro(df['Job'])\n",
    "print(f\"Shapiro-Wilk Test: p-value = {p:.4f}\")\n",
    "if p > 0.05:\n",
    "    print(\"Data is normally distributed (fail to reject H0)\")\n",
    "else:\n",
    "    print(\"Data is NOT normally distributed (reject H0)\")"
   ]
  },
  {
   "cell_type": "code",
   "execution_count": 57,
   "id": "a7e03d7b",
   "metadata": {},
   "outputs": [
    {
     "data": {
      "text/plain": [
       "<Axes: xlabel='Job', ylabel='Count'>"
      ]
     },
     "execution_count": 57,
     "metadata": {},
     "output_type": "execute_result"
    },
    {
     "data": {
      "image/png": "[encoded data removed]",
      "text/plain": [
       "<Figure size 640x480 with 1 Axes>"
      ]
     },
     "metadata": {},
     "output_type": "display_data"
    }
   ],
   "source": [
    "sns.histplot(data=df, x='Job', kde=True)"
   ]
  },
  {
   "cell_type": "code",
   "execution_count": 58,
   "id": "5d1600ac",
   "metadata": {},
   "outputs": [
    {
     "data": {
      "text/plain": [
       "<seaborn.axisgrid.PairGrid at 0x24ee9a29040>"
      ]
     },
     "execution_count": 58,
     "metadata": {},
     "output_type": "execute_result"
    },
    {
     "data": {
      "image/png": "[encoded data removed]",
      "text/plain": [
       "<Figure size 800x400 with 1 Axes>"
      ]
     },
     "metadata": {},
     "output_type": "display_data"
    }
   ],
   "source": [
    "pplot(data=df, x=\"Job\", y=\"IA_Level\", kind='qq', height=4, aspect=2)"
   ]
  },
  {
   "cell_type": "code",
   "execution_count": 59,
   "id": "39df53ff",
   "metadata": {},
   "outputs": [
    {
     "name": "stdout",
     "output_type": "stream",
     "text": [
      "Male Time shapiro p-value: 0.0006 and Female Time Shapiro p-value: 2.30458759439767e-17\n"
     ]
    }
   ],
   "source": [
    "Male_Ex = df[df['Gender'] == 1][' زمان']\n",
    "FM_EX = df[df['Gender'] == 0][' زمان']\n",
    "\n",
    "m_stat, m_p = stats.shapiro(Male_Ex)\n",
    "fm_stat, fm_p = stats.shapiro(FM_EX)\n",
    "\n",
    "print(f\"Male Time shapiro p-value: {m_p:.4f} and Female Time Shapiro p-value: {fm_p}\")"
   ]
  },
  {
   "cell_type": "code",
   "execution_count": 60,
   "id": "1154aea3",
   "metadata": {},
   "outputs": [
    {
     "name": "stdout",
     "output_type": "stream",
     "text": [
      "Shapiro-Wilk Test: p-value = 0.0000\n",
      "Data is NOT normally distributed (reject H0)\n"
     ]
    }
   ],
   "source": [
    "stat, p = stats.shapiro(df[' زمان'])\n",
    "print(f\"Shapiro-Wilk Test: p-value = {p:.4f}\")\n",
    "if p > 0.05:\n",
    "    print(\"Data is normally distributed (fail to reject H0)\")\n",
    "else:\n",
    "    print(\"Data is NOT normally distributed (reject H0)\")"
   ]
  },
  {
   "cell_type": "code",
   "execution_count": 61,
   "id": "3485955b",
   "metadata": {},
   "outputs": [
    {
     "data": {
      "text/plain": [
       "<Axes: xlabel=' زمان', ylabel='Count'>"
      ]
     },
     "execution_count": 61,
     "metadata": {},
     "output_type": "execute_result"
    },
    {
     "data": {
      "image/png": "[encoded data removed]",
      "text/plain": [
       "<Figure size 640x480 with 1 Axes>"
      ]
     },
     "metadata": {},
     "output_type": "display_data"
    }
   ],
   "source": [
    "sns.histplot(data=df, x=' زمان', kde=True)"
   ]
  },
  {
   "cell_type": "code",
   "execution_count": 62,
   "id": "623736ed",
   "metadata": {},
   "outputs": [
    {
     "data": {
      "text/plain": [
       "<seaborn.axisgrid.PairGrid at 0x24ee7a29fa0>"
      ]
     },
     "execution_count": 62,
     "metadata": {},
     "output_type": "execute_result"
    },
    {
     "data": {
      "image/png": "[encoded data removed]",
      "text/plain": [
       "<Figure size 800x400 with 1 Axes>"
      ]
     },
     "metadata": {},
     "output_type": "display_data"
    }
   ],
   "source": [
    "pplot(data=df, x=\" زمان\", y=\"IA_Level\", kind='qq', height=4, aspect=2)"
   ]
  },
  {
   "cell_type": "markdown",
   "id": "c0dbbc7a",
   "metadata": {},
   "source": [
    "### Corrlation tests"
   ]
  },
  {
   "cell_type": "code",
   "execution_count": 63,
   "id": "584175e9",
   "metadata": {},
   "outputs": [
    {
     "name": "stdout",
     "output_type": "stream",
     "text": [
      "Pearson’s r: -0.023, p-value: 0.8418\n"
     ]
    }
   ],
   "source": [
    "r, p = stats.pearsonr(df['Extraversion'], df['IA_Level'])\n",
    "print(f\"Pearson’s r: {r:.3f}, p-value: {p:.4f}\")"
   ]
  },
  {
   "cell_type": "code",
   "execution_count": 65,
   "id": "ade8edcb",
   "metadata": {},
   "outputs": [
    {
     "name": "stdout",
     "output_type": "stream",
     "text": [
      "Spearman’s ρ: 0.542, p-value: 0.0000\n"
     ]
    }
   ],
   "source": [
    "rho, p = stats.spearmanr(df['BDI_II'], df['IA_Level'])\n",
    "print(f\"Spearman’s ρ: {rho:.3f}, p-value: {p:.4f}\")"
   ]
  },
  {
   "cell_type": "code",
   "execution_count": 66,
   "id": "a7c95623",
   "metadata": {},
   "outputs": [
    {
     "name": "stdout",
     "output_type": "stream",
     "text": [
      "Spearman’s ρ: 0.213, p-value: 0.0574\n"
     ]
    }
   ],
   "source": [
    "rho, p = stats.spearmanr(df['Psychoticism'], df['IA_Level'])\n",
    "print(f\"Spearman’s ρ: {rho:.3f}, p-value: {p:.4f}\")"
   ]
  },
  {
   "cell_type": "code",
   "execution_count": 67,
   "id": "51766ce3",
   "metadata": {},
   "outputs": [
    {
     "name": "stdout",
     "output_type": "stream",
     "text": [
      "Spearman’s ρ: 0.050, p-value: 0.6594\n"
     ]
    }
   ],
   "source": [
    "rho, p = stats.spearmanr(df[' زمان'], df['IA_Level'])\n",
    "print(f\"Spearman’s ρ: {rho:.3f}, p-value: {p:.4f}\")"
   ]
  },
  {
   "cell_type": "code",
   "execution_count": 68,
   "id": "1451b46f",
   "metadata": {},
   "outputs": [
    {
     "name": "stdout",
     "output_type": "stream",
     "text": [
      "Spearman’s ρ: -0.412, p-value: 0.0001\n"
     ]
    }
   ],
   "source": [
    "rho, p = stats.spearmanr(df['Age'], df['IA_Level'])\n",
    "print(f\"Spearman’s ρ: {rho:.3f}, p-value: {p:.4f}\")"
   ]
  },
  {
   "cell_type": "code",
   "execution_count": 69,
   "id": "09baf878",
   "metadata": {},
   "outputs": [
    {
     "name": "stdout",
     "output_type": "stream",
     "text": [
      "Kruskal-Wallis p-value: 0.0483\n"
     ]
    }
   ],
   "source": [
    "groups = [df[df['Marital_Status'] == level]['IA_Level'] for level in df['Marital_Status'].unique()]\n",
    "stat, p = stats.kruskal(*groups)\n",
    "print(f\"Kruskal-Wallis p-value: {p:.4f}\")"
   ]
  },
  {
   "cell_type": "code",
   "execution_count": 70,
   "id": "e30d965d",
   "metadata": {},
   "outputs": [
    {
     "name": "stdout",
     "output_type": "stream",
     "text": [
      "Kruskal-Wallis p-value: 0.0088\n"
     ]
    }
   ],
   "source": [
    "groups = [df[df['Education'] == level]['IA_Level'] for level in df['Education'].unique()]\n",
    "stat, p = stats.kruskal(*groups)\n",
    "print(f\"Kruskal-Wallis p-value: {p:.4f}\")"
   ]
  },
  {
   "cell_type": "markdown",
   "id": "7c06f0db",
   "metadata": {},
   "source": [
    "### Variance Tests"
   ]
  },
  {
   "cell_type": "code",
   "execution_count": 71,
   "id": "407d3c55",
   "metadata": {},
   "outputs": [
    {
     "name": "stdout",
     "output_type": "stream",
     "text": [
      "        count       mean        std   min    25%   50%   75%   max\n",
      "Gender                                                            \n",
      "0        68.0  45.926471  15.508607  21.0  33.75  43.5  57.0  83.0\n",
      "1        12.0  41.666667  12.331286  22.0  31.75  43.5  50.0  65.0\n"
     ]
    }
   ],
   "source": [
    "print(df.groupby('Gender')['IA_Level'].describe())"
   ]
  },
  {
   "cell_type": "code",
   "execution_count": 72,
   "id": "25668360",
   "metadata": {},
   "outputs": [
    {
     "name": "stdout",
     "output_type": "stream",
     "text": [
      "\n",
      "Variance Test (Levene):  0.2851666858408935\n"
     ]
    }
   ],
   "source": [
    "male_scores = df[df['Gender'] == 1]['IA_Level']\n",
    "female_scores = df[df['Gender'] == 0]['IA_Level']\n",
    "\n",
    "statistic, p_value = stats.levene(male_scores, female_scores)\n",
    "print(\"\\nVariance Test (Levene): \", p_value)"
   ]
  },
  {
   "cell_type": "code",
   "execution_count": 73,
   "id": "9dce5951",
   "metadata": {},
   "outputs": [
    {
     "name": "stdout",
     "output_type": "stream",
     "text": [
      "     count       mean        std   min   25%   50%    75%   max\n",
      "Job                                                            \n",
      "0      5.0  44.600000   8.648699  34.0  40.0  42.0  53.00  54.0\n",
      "1     47.0  48.212766  13.961027  21.0  38.0  48.0  58.50  74.0\n",
      "2      5.0  41.600000  15.565989  22.0  36.0  41.0  44.00  65.0\n",
      "3      1.0  35.000000        NaN  35.0  35.0  35.0  35.00  35.0\n",
      "4      5.0  31.200000   3.768289  27.0  29.0  31.0  32.00  37.0\n",
      "5     11.0  37.909091  16.495178  22.0  24.5  32.0  44.50  73.0\n",
      "6      6.0  53.000000  22.063545  28.0  37.0  48.5  69.75  83.0\n"
     ]
    }
   ],
   "source": [
    "print(df.groupby('Job')['IA_Level'].describe())"
   ]
  },
  {
   "cell_type": "code",
   "execution_count": 74,
   "id": "4eaf6619",
   "metadata": {},
   "outputs": [
    {
     "name": "stdout",
     "output_type": "stream",
     "text": [
      "Levene's test for job selection: statistic=2.070, p-value=0.067\n"
     ]
    }
   ],
   "source": [
    "job_groups = [df[df['Job'] == job]['IA_Level'] \n",
    "              for job in df['Job'].unique()]\n",
    "stat, p = stats.levene(*job_groups)\n",
    "print(f\"Levene's test for job selection: statistic={stat:.3f}, p-value={p:.3f}\")"
   ]
  },
  {
   "cell_type": "code",
   "execution_count": 75,
   "id": "1cffef10",
   "metadata": {},
   "outputs": [
    {
     "name": "stdout",
     "output_type": "stream",
     "text": [
      "     count       mean        std   min   25%   50%    75%   max\n",
      "Job                                                            \n",
      "0      5.0  44.600000   8.648699  34.0  40.0  42.0  53.00  54.0\n",
      "1     47.0  48.212766  13.961027  21.0  38.0  48.0  58.50  74.0\n",
      "2      5.0  41.600000  15.565989  22.0  36.0  41.0  44.00  65.0\n",
      "3      1.0  35.000000        NaN  35.0  35.0  35.0  35.00  35.0\n",
      "4      5.0  31.200000   3.768289  27.0  29.0  31.0  32.00  37.0\n",
      "5     11.0  37.909091  16.495178  22.0  24.5  32.0  44.50  73.0\n",
      "6      6.0  53.000000  22.063545  28.0  37.0  48.5  69.75  83.0\n"
     ]
    }
   ],
   "source": [
    "print(df.groupby('Job')['IA_Level'].describe())"
   ]
  },
  {
   "cell_type": "code",
   "execution_count": 77,
   "id": "85f754a1",
   "metadata": {},
   "outputs": [
    {
     "name": "stdout",
     "output_type": "stream",
     "text": [
      "        count       mean        std   min    25%   50%    75%   max\n",
      "BDI_II                                                             \n",
      "21        2.0  28.000000   8.485281  22.0  25.00  28.0  31.00  34.0\n",
      "22        5.0  23.000000   2.915476  21.0  21.00  22.0  23.00  28.0\n",
      "23        2.0  29.000000   2.828427  27.0  28.00  29.0  30.00  31.0\n",
      "24        3.0  47.000000   3.605551  44.0  45.00  46.0  48.50  51.0\n",
      "25        2.0  50.500000   9.192388  44.0  47.25  50.5  53.75  57.0\n",
      "26        1.0  30.000000        NaN  30.0  30.00  30.0  30.00  30.0\n",
      "27        1.0  73.000000        NaN  73.0  73.00  73.0  73.00  73.0\n",
      "28        3.0  27.000000   2.645751  24.0  26.00  28.0  28.50  29.0\n",
      "29        4.0  35.000000   3.829708  32.0  32.00  34.0  37.00  40.0\n",
      "30        1.0  28.000000        NaN  28.0  28.00  28.0  28.00  28.0\n",
      "31        2.0  62.000000  11.313708  54.0  58.00  62.0  66.00  70.0\n",
      "32        6.0  48.166667  17.174594  25.0  38.25  46.0  60.50  71.0\n",
      "33        5.0  40.800000   8.228001  33.0  35.00  40.0  42.00  54.0\n",
      "34        7.0  40.571429  11.984116  29.0  31.00  36.0  49.50  58.0\n",
      "35        4.0  47.750000  12.763881  38.0  39.50  43.5  51.75  66.0\n",
      "36        5.0  46.600000   5.941380  43.0  43.00  44.0  46.00  57.0\n",
      "37        4.0  43.000000   6.271629  35.0  39.50  44.5  48.00  48.0\n",
      "38        2.0  64.500000  14.849242  54.0  59.25  64.5  69.75  75.0\n",
      "39        3.0  53.666667  11.503623  42.0  48.00  54.0  59.50  65.0\n",
      "42        1.0  56.000000        NaN  56.0  56.00  56.0  56.00  56.0\n",
      "43        1.0  34.000000        NaN  34.0  34.00  34.0  34.00  34.0\n",
      "45        1.0  65.000000        NaN  65.0  65.00  65.0  65.00  65.0\n",
      "46        2.0  64.000000  14.142136  54.0  59.00  64.0  69.00  74.0\n",
      "47        1.0  69.000000        NaN  69.0  69.00  69.0  69.00  69.0\n",
      "48        4.0  62.500000  14.933185  50.0  52.25  58.5  68.75  83.0\n",
      "50        1.0  38.000000        NaN  38.0  38.00  38.0  38.00  38.0\n",
      "52        1.0  46.000000        NaN  46.0  46.00  46.0  46.00  46.0\n",
      "53        1.0  43.000000        NaN  43.0  43.00  43.0  43.00  43.0\n",
      "54        1.0  32.000000        NaN  32.0  32.00  32.0  32.00  32.0\n",
      "55        1.0  64.000000        NaN  64.0  64.00  64.0  64.00  64.0\n",
      "56        1.0  65.000000        NaN  65.0  65.00  65.0  65.00  65.0\n",
      "59        1.0  63.000000        NaN  63.0  63.00  63.0  63.00  63.0\n",
      "61        1.0  60.000000        NaN  60.0  60.00  60.0  60.00  60.0\n"
     ]
    }
   ],
   "source": [
    "print(df.groupby('BDI_II')['IA_Level'].describe())"
   ]
  },
  {
   "cell_type": "code",
   "execution_count": 78,
   "id": "e7c47971",
   "metadata": {},
   "outputs": [
    {
     "name": "stdout",
     "output_type": "stream",
     "text": [
      "Levene's test for marital status: statistic=0.570, p-value=0.636\n"
     ]
    }
   ],
   "source": [
    "marital_groups = [df[df['Marital_Status'] == status]['IA_Level'] \n",
    "                 for status in df['Marital_Status'].unique()]\n",
    "stat, p = stats.levene(*marital_groups)\n",
    "print(f\"Levene's test for marital status: statistic={stat:.3f}, p-value={p:.3f}\")"
   ]
  },
  {
   "cell_type": "code",
   "execution_count": 79,
   "id": "065f06aa",
   "metadata": {},
   "outputs": [
    {
     "name": "stdout",
     "output_type": "stream",
     "text": [
      "\n",
      "Levene's test for education levels: statistic=2.128, p-value=0.060\n"
     ]
    }
   ],
   "source": [
    "education_groups = [df[df['Education'] == level]['IA_Level'] for level in [0, 3, 5, 2, 4, 1, 6]]\n",
    "stat, p = stats.levene(*education_groups)\n",
    "print(f\"\\nLevene's test for education levels: statistic={stat:.3f}, p-value={p:.3f}\")"
   ]
  },
  {
   "cell_type": "code",
   "execution_count": 81,
   "id": "e8b61755",
   "metadata": {},
   "outputs": [
    {
     "name": "stdout",
     "output_type": "stream",
     "text": [
      "Levene's test results: statistic=nan, p-value=nan\n"
     ]
    },
    {
     "name": "stderr",
     "output_type": "stream",
     "text": [
      "C:\\Users\\ASUS\\AppData\\Local\\Temp\\ipykernel_8692\\3991794654.py:5: SmallSampleWarning: One or more sample arguments is too small; all returned values will be NaN. See documentation for sample size requirements.\n",
      "  stat, p = stats.levene(low_group, mid_group, high_group)\n"
     ]
    }
   ],
   "source": [
    "low_group = df[df['Ex_fact'] == \"Low\"]['IA_Level']\n",
    "mid_group = df[df['Ex_fact'] == \"Mid\"]['IA_Level']\n",
    "high_group = df[df['Ex_fact'] == \"High\"]['IA_Level']\n",
    "\n",
    "stat, p = stats.levene(low_group, mid_group, high_group)\n",
    "print(f\"Levene's test results: statistic={stat:.3f}, p-value={p:.3f}\")"
   ]
  },
  {
   "cell_type": "markdown",
   "id": "07516ca2",
   "metadata": {},
   "source": [
    "### Anova Tests"
   ]
  },
  {
   "cell_type": "code",
   "execution_count": 82,
   "id": "b1618ff4",
   "metadata": {},
   "outputs": [],
   "source": [
    "in_group = np.array(df[df['Ex_fact'] == \"Extravert\"]['IA_Level'])\n",
    "ex_group = np.array(df[df['Ex_fact'] == \"Intravert\"]['IA_Level'])"
   ]
  },
  {
   "cell_type": "code",
   "execution_count": 83,
   "id": "cab98cc0",
   "metadata": {},
   "outputs": [
    {
     "name": "stdout",
     "output_type": "stream",
     "text": [
      "F Statistic: 0.02996105866693286\n",
      "P Value: 0.8630270083413025\n",
      "Fail to reject the null hypothesis: There is no significant difference between the group means.\n"
     ]
    }
   ],
   "source": [
    "f_statistic, p_value = stats.f_oneway(in_group, ex_group)\n",
    "\n",
    "print(\"F Statistic:\", f_statistic)\n",
    "print(\"P Value:\", p_value)\n",
    "\n",
    "alpha = 0.05\n",
    "if p_value < alpha:\n",
    "    print(\"Reject the null hypothesis: There is a significant difference between the group means.\")\n",
    "else:\n",
    "    print(\"Fail to reject the null hypothesis: There is no significant difference between the group means.\")"
   ]
  },
  {
   "cell_type": "code",
   "execution_count": 84,
   "id": "84e1f647",
   "metadata": {},
   "outputs": [],
   "source": [
    "low_group = np.array(df[df['Psy_fact'] == \"Low\"]['IA_Level'])\n",
    "mid_group = np.array(df[df['Psy_fact'] == \"Mid\"]['IA_Level'])\n",
    "high_group = np.array(df[df['Psy_fact'] == \"High\"]['IA_Level'])"
   ]
  },
  {
   "cell_type": "code",
   "execution_count": 85,
   "id": "1dce75a1",
   "metadata": {},
   "outputs": [
    {
     "name": "stdout",
     "output_type": "stream",
     "text": [
      "F Statistic: 1.485907783884974\n",
      "P Value: 0.23271272041867141\n",
      "Fail to reject the null hypothesis: There is no significant difference between the group means.\n"
     ]
    }
   ],
   "source": [
    "f_statistic, p_value = stats.f_oneway(low_group, mid_group, high_group)\n",
    "\n",
    "print(\"F Statistic:\", f_statistic)\n",
    "print(\"P Value:\", p_value)\n",
    "\n",
    "alpha = 0.05\n",
    "if p_value < alpha:\n",
    "    print(\"Reject the null hypothesis: There is a significant difference between the group means.\")\n",
    "else:\n",
    "    print(\"Fail to reject the null hypothesis: There is no significant difference between the group means.\")"
   ]
  },
  {
   "cell_type": "code",
   "execution_count": 86,
   "id": "3a8d6f1c",
   "metadata": {},
   "outputs": [],
   "source": [
    "low_group = np.array(df[df['bdi_fact'] == \"Low\"]['IA_Level'])\n",
    "mid_group = np.array(df[df['bdi_fact'] == \"Mid\"]['IA_Level'])\n",
    "high_group = np.array(df[df['bdi_fact'] == \"High\"]['IA_Level'])"
   ]
  },
  {
   "cell_type": "code",
   "execution_count": 87,
   "id": "aa773e00",
   "metadata": {},
   "outputs": [
    {
     "name": "stdout",
     "output_type": "stream",
     "text": [
      "F Statistic: 10.127630296970558\n",
      "P Value: 0.00012451982364453923\n",
      "Reject the null hypothesis: There is a significant difference between the group means.\n"
     ]
    }
   ],
   "source": [
    "f_statistic, p_value = stats.f_oneway(low_group, mid_group, high_group)\n",
    "\n",
    "print(\"F Statistic:\", f_statistic)\n",
    "print(\"P Value:\", p_value)\n",
    "\n",
    "alpha = 0.05\n",
    "if p_value < alpha:\n",
    "    print(\"Reject the null hypothesis: There is a significant difference between the group means.\")\n",
    "else:\n",
    "    print(\"Fail to reject the null hypothesis: There is no significant difference between the group means.\")"
   ]
  },
  {
   "cell_type": "code",
   "execution_count": 88,
   "id": "c8d20a93",
   "metadata": {},
   "outputs": [],
   "source": [
    "groups = {}\n",
    "for st in df['Marital_Status'].unique():\n",
    "    groups[str(st)] = np.array(df[df['Marital_Status'] == st]['IA_Level'])\n",
    "    \n",
    "matst_first = groups['0']\n",
    "matst_sec = groups['1']\n",
    "matst_third = groups['2']\n",
    "Edu_frth = groups['3']    "
   ]
  },
  {
   "cell_type": "code",
   "execution_count": 89,
   "id": "402a2093",
   "metadata": {},
   "outputs": [
    {
     "name": "stdout",
     "output_type": "stream",
     "text": [
      "F Statistic: 2.8062984268020794\n",
      "P Value: 0.04526976947798083\n",
      "Reject the null hypothesis: There is a significant difference between the group means.\n"
     ]
    }
   ],
   "source": [
    "f_statistic, p_value = stats.f_oneway(matst_first, matst_sec, matst_third, Edu_frth)\n",
    "\n",
    "print(\"F Statistic:\", f_statistic)\n",
    "print(\"P Value:\", p_value)\n",
    "\n",
    "alpha = 0.05\n",
    "if p_value < alpha:\n",
    "    print(\"Reject the null hypothesis: There is a significant difference between the group means.\")\n",
    "else:\n",
    "    print(\"Fail to reject the null hypothesis: There is no significant difference between the group means.\")"
   ]
  },
  {
   "cell_type": "code",
   "execution_count": 90,
   "id": "38819f38",
   "metadata": {},
   "outputs": [],
   "source": [
    "groups = {}\n",
    "for st in df['Education'].unique():\n",
    "    groups[str(st)] = np.array(df[df['Education'] == st]['IA_Level'])\n",
    "    \n",
    "Edu_first = groups['0']\n",
    "Edu_sec = groups['1']\n",
    "Edu_third = groups['2']\n",
    "Edu_frth = groups['3']    \n",
    "Edu_fif = groups['4']  \n",
    "Edu_six = groups['5']  \n",
    "Edu_sev = groups['6']     "
   ]
  },
  {
   "cell_type": "code",
   "execution_count": 91,
   "id": "0d892ded",
   "metadata": {},
   "outputs": [
    {
     "name": "stdout",
     "output_type": "stream",
     "text": [
      "F Statistic: 3.5364001785452137\n",
      "P Value: 0.003963563710945149\n",
      "Reject the null hypothesis: There is a significant difference between the group means.\n"
     ]
    }
   ],
   "source": [
    "f_statistic, p_value = stats.f_oneway(Edu_first, Edu_sec, Edu_third, Edu_frth, Edu_fif, Edu_six, Edu_sev)\n",
    "\n",
    "print(\"F Statistic:\", f_statistic)\n",
    "print(\"P Value:\", p_value)\n",
    "\n",
    "alpha = 0.05\n",
    "if p_value < alpha:\n",
    "    print(\"Reject the null hypothesis: There is a significant difference between the group means.\")\n",
    "else:\n",
    "    print(\"Fail to reject the null hypothesis: There is no significant difference between the group means.\")"
   ]
  },
  {
   "cell_type": "code",
   "execution_count": 92,
   "id": "a478c1ac",
   "metadata": {},
   "outputs": [
    {
     "data": {
      "text/html": [
       "<div>\n",
       "<style scoped>\n",
       "    .dataframe tbody tr th:only-of-type {\n",
       "        vertical-align: middle;\n",
       "    }\n",
       "\n",
       "    .dataframe tbody tr th {\n",
       "        vertical-align: top;\n",
       "    }\n",
       "\n",
       "    .dataframe thead th {\n",
       "        text-align: right;\n",
       "    }\n",
       "</style>\n",
       "<table border=\"1\" class=\"dataframe\">\n",
       "  <thead>\n",
       "    <tr style=\"text-align: right;\">\n",
       "      <th></th>\n",
       "      <th>sum_sq</th>\n",
       "      <th>df</th>\n",
       "      <th>F</th>\n",
       "      <th>PR(&gt;F)</th>\n",
       "    </tr>\n",
       "  </thead>\n",
       "  <tbody>\n",
       "    <tr>\n",
       "      <th>C(bdi_fact)</th>\n",
       "      <td>3146.914970</td>\n",
       "      <td>2.0</td>\n",
       "      <td>8.664788</td>\n",
       "      <td>0.000429</td>\n",
       "    </tr>\n",
       "    <tr>\n",
       "      <th>C(Psy_fact)</th>\n",
       "      <td>71.690980</td>\n",
       "      <td>2.0</td>\n",
       "      <td>0.197396</td>\n",
       "      <td>0.821315</td>\n",
       "    </tr>\n",
       "    <tr>\n",
       "      <th>C(bdi_fact):C(Psy_fact)</th>\n",
       "      <td>1264.562086</td>\n",
       "      <td>4.0</td>\n",
       "      <td>1.740937</td>\n",
       "      <td>0.150559</td>\n",
       "    </tr>\n",
       "    <tr>\n",
       "      <th>Residual</th>\n",
       "      <td>12893.042389</td>\n",
       "      <td>71.0</td>\n",
       "      <td>NaN</td>\n",
       "      <td>NaN</td>\n",
       "    </tr>\n",
       "  </tbody>\n",
       "</table>\n",
       "</div>"
      ],
      "text/plain": [
       "                               sum_sq    df         F    PR(>F)\n",
       "C(bdi_fact)               3146.914970   2.0  8.664788  0.000429\n",
       "C(Psy_fact)                 71.690980   2.0  0.197396  0.821315\n",
       "C(bdi_fact):C(Psy_fact)   1264.562086   4.0  1.740937  0.150559\n",
       "Residual                 12893.042389  71.0       NaN       NaN"
      ]
     },
     "execution_count": 92,
     "metadata": {},
     "output_type": "execute_result"
    }
   ],
   "source": [
    "formula = 'IA_Level ~ C(bdi_fact) + C(Psy_fact) + C(bdi_fact):C(Psy_fact)'\n",
    "\n",
    "model = smf.ols(formula, data=df).fit()\n",
    "anova_table = sm.stats.anova_lm(model, typ=2)\n",
    "\n",
    "anova_table"
   ]
  },
  {
   "cell_type": "code",
   "execution_count": 93,
   "id": "1dce6268",
   "metadata": {},
   "outputs": [
    {
     "data": {
      "text/html": [
       "<div>\n",
       "<style scoped>\n",
       "    .dataframe tbody tr th:only-of-type {\n",
       "        vertical-align: middle;\n",
       "    }\n",
       "\n",
       "    .dataframe tbody tr th {\n",
       "        vertical-align: top;\n",
       "    }\n",
       "\n",
       "    .dataframe thead th {\n",
       "        text-align: right;\n",
       "    }\n",
       "</style>\n",
       "<table border=\"1\" class=\"dataframe\">\n",
       "  <thead>\n",
       "    <tr style=\"text-align: right;\">\n",
       "      <th></th>\n",
       "      <th>sum_sq</th>\n",
       "      <th>df</th>\n",
       "      <th>F</th>\n",
       "      <th>PR(&gt;F)</th>\n",
       "    </tr>\n",
       "  </thead>\n",
       "  <tbody>\n",
       "    <tr>\n",
       "      <th>C(Ex_fact)</th>\n",
       "      <td>0.336554</td>\n",
       "      <td>1.0</td>\n",
       "      <td>0.001487</td>\n",
       "      <td>0.969347</td>\n",
       "    </tr>\n",
       "    <tr>\n",
       "      <th>C(Psy_fact)</th>\n",
       "      <td>661.303776</td>\n",
       "      <td>2.0</td>\n",
       "      <td>1.460633</td>\n",
       "      <td>0.238702</td>\n",
       "    </tr>\n",
       "    <tr>\n",
       "      <th>C(Ex_fact):C(Psy_fact)</th>\n",
       "      <td>552.372843</td>\n",
       "      <td>2.0</td>\n",
       "      <td>1.220035</td>\n",
       "      <td>0.301088</td>\n",
       "    </tr>\n",
       "    <tr>\n",
       "      <th>Residual</th>\n",
       "      <td>16751.810047</td>\n",
       "      <td>74.0</td>\n",
       "      <td>NaN</td>\n",
       "      <td>NaN</td>\n",
       "    </tr>\n",
       "  </tbody>\n",
       "</table>\n",
       "</div>"
      ],
      "text/plain": [
       "                              sum_sq    df         F    PR(>F)\n",
       "C(Ex_fact)                  0.336554   1.0  0.001487  0.969347\n",
       "C(Psy_fact)               661.303776   2.0  1.460633  0.238702\n",
       "C(Ex_fact):C(Psy_fact)    552.372843   2.0  1.220035  0.301088\n",
       "Residual                16751.810047  74.0       NaN       NaN"
      ]
     },
     "execution_count": 93,
     "metadata": {},
     "output_type": "execute_result"
    }
   ],
   "source": [
    "formula = 'IA_Level ~ C(Ex_fact) + C(Psy_fact) + C(Ex_fact):C(Psy_fact)'\n",
    "\n",
    "model = smf.ols(formula, data=df).fit()\n",
    "anova_table = sm.stats.anova_lm(model, typ=2)\n",
    "\n",
    "anova_table"
   ]
  },
  {
   "cell_type": "code",
   "execution_count": 94,
   "id": "1579ff35",
   "metadata": {},
   "outputs": [
    {
     "data": {
      "text/html": [
       "<div>\n",
       "<style scoped>\n",
       "    .dataframe tbody tr th:only-of-type {\n",
       "        vertical-align: middle;\n",
       "    }\n",
       "\n",
       "    .dataframe tbody tr th {\n",
       "        vertical-align: top;\n",
       "    }\n",
       "\n",
       "    .dataframe thead th {\n",
       "        text-align: right;\n",
       "    }\n",
       "</style>\n",
       "<table border=\"1\" class=\"dataframe\">\n",
       "  <thead>\n",
       "    <tr style=\"text-align: right;\">\n",
       "      <th></th>\n",
       "      <th>sum_sq</th>\n",
       "      <th>df</th>\n",
       "      <th>F</th>\n",
       "      <th>PR(&gt;F)</th>\n",
       "    </tr>\n",
       "  </thead>\n",
       "  <tbody>\n",
       "    <tr>\n",
       "      <th>C(Gender)</th>\n",
       "      <td>319.152334</td>\n",
       "      <td>1.0</td>\n",
       "      <td>1.411169</td>\n",
       "      <td>0.238661</td>\n",
       "    </tr>\n",
       "    <tr>\n",
       "      <th>C(Psy_fact)</th>\n",
       "      <td>801.931909</td>\n",
       "      <td>2.0</td>\n",
       "      <td>1.772918</td>\n",
       "      <td>0.176974</td>\n",
       "    </tr>\n",
       "    <tr>\n",
       "      <th>C(Gender):C(Psy_fact)</th>\n",
       "      <td>249.409588</td>\n",
       "      <td>2.0</td>\n",
       "      <td>0.551397</td>\n",
       "      <td>0.578493</td>\n",
       "    </tr>\n",
       "    <tr>\n",
       "      <th>Residual</th>\n",
       "      <td>16735.957523</td>\n",
       "      <td>74.0</td>\n",
       "      <td>NaN</td>\n",
       "      <td>NaN</td>\n",
       "    </tr>\n",
       "  </tbody>\n",
       "</table>\n",
       "</div>"
      ],
      "text/plain": [
       "                             sum_sq    df         F    PR(>F)\n",
       "C(Gender)                319.152334   1.0  1.411169  0.238661\n",
       "C(Psy_fact)              801.931909   2.0  1.772918  0.176974\n",
       "C(Gender):C(Psy_fact)    249.409588   2.0  0.551397  0.578493\n",
       "Residual               16735.957523  74.0       NaN       NaN"
      ]
     },
     "execution_count": 94,
     "metadata": {},
     "output_type": "execute_result"
    }
   ],
   "source": [
    "formula = 'IA_Level ~ C(Gender) + C(Psy_fact) + C(Gender):C(Psy_fact)'\n",
    "\n",
    "model = smf.ols(formula, data=df).fit()\n",
    "anova_table = sm.stats.anova_lm(model, typ=2)\n",
    "\n",
    "anova_table"
   ]
  },
  {
   "cell_type": "code",
   "execution_count": 95,
   "id": "f24968f4",
   "metadata": {},
   "outputs": [
    {
     "data": {
      "text/html": [
       "<div>\n",
       "<style scoped>\n",
       "    .dataframe tbody tr th:only-of-type {\n",
       "        vertical-align: middle;\n",
       "    }\n",
       "\n",
       "    .dataframe tbody tr th {\n",
       "        vertical-align: top;\n",
       "    }\n",
       "\n",
       "    .dataframe thead th {\n",
       "        text-align: right;\n",
       "    }\n",
       "</style>\n",
       "<table border=\"1\" class=\"dataframe\">\n",
       "  <thead>\n",
       "    <tr style=\"text-align: right;\">\n",
       "      <th></th>\n",
       "      <th>sum_sq</th>\n",
       "      <th>df</th>\n",
       "      <th>F</th>\n",
       "      <th>PR(&gt;F)</th>\n",
       "    </tr>\n",
       "  </thead>\n",
       "  <tbody>\n",
       "    <tr>\n",
       "      <th>C(bdi_fact)</th>\n",
       "      <td>3841.907926</td>\n",
       "      <td>2.0</td>\n",
       "      <td>10.389537</td>\n",
       "      <td>0.000105</td>\n",
       "    </tr>\n",
       "    <tr>\n",
       "      <th>C(Ex_fact)</th>\n",
       "      <td>105.716714</td>\n",
       "      <td>1.0</td>\n",
       "      <td>0.571772</td>\n",
       "      <td>0.451956</td>\n",
       "    </tr>\n",
       "    <tr>\n",
       "      <th>C(bdi_fact):C(Ex_fact)</th>\n",
       "      <td>441.487892</td>\n",
       "      <td>2.0</td>\n",
       "      <td>1.193900</td>\n",
       "      <td>0.308806</td>\n",
       "    </tr>\n",
       "    <tr>\n",
       "      <th>Residual</th>\n",
       "      <td>13682.090849</td>\n",
       "      <td>74.0</td>\n",
       "      <td>NaN</td>\n",
       "      <td>NaN</td>\n",
       "    </tr>\n",
       "  </tbody>\n",
       "</table>\n",
       "</div>"
      ],
      "text/plain": [
       "                              sum_sq    df          F    PR(>F)\n",
       "C(bdi_fact)              3841.907926   2.0  10.389537  0.000105\n",
       "C(Ex_fact)                105.716714   1.0   0.571772  0.451956\n",
       "C(bdi_fact):C(Ex_fact)    441.487892   2.0   1.193900  0.308806\n",
       "Residual                13682.090849  74.0        NaN       NaN"
      ]
     },
     "execution_count": 95,
     "metadata": {},
     "output_type": "execute_result"
    }
   ],
   "source": [
    "formula = 'IA_Level ~ C(bdi_fact) + C(Ex_fact) + C(bdi_fact):C(Ex_fact)'\n",
    "\n",
    "model = smf.ols(formula, data=df).fit()\n",
    "anova_table = sm.stats.anova_lm(model, typ=2)\n",
    "\n",
    "anova_table"
   ]
  },
  {
   "cell_type": "code",
   "execution_count": 96,
   "id": "3bb9f918",
   "metadata": {},
   "outputs": [
    {
     "data": {
      "text/html": [
       "<div>\n",
       "<style scoped>\n",
       "    .dataframe tbody tr th:only-of-type {\n",
       "        vertical-align: middle;\n",
       "    }\n",
       "\n",
       "    .dataframe tbody tr th {\n",
       "        vertical-align: top;\n",
       "    }\n",
       "\n",
       "    .dataframe thead th {\n",
       "        text-align: right;\n",
       "    }\n",
       "</style>\n",
       "<table border=\"1\" class=\"dataframe\">\n",
       "  <thead>\n",
       "    <tr style=\"text-align: right;\">\n",
       "      <th></th>\n",
       "      <th>sum_sq</th>\n",
       "      <th>df</th>\n",
       "      <th>F</th>\n",
       "      <th>PR(&gt;F)</th>\n",
       "    </tr>\n",
       "  </thead>\n",
       "  <tbody>\n",
       "    <tr>\n",
       "      <th>C(Marital_Status)</th>\n",
       "      <td>1854.183458</td>\n",
       "      <td>3.0</td>\n",
       "      <td>2.862924</td>\n",
       "      <td>0.042637</td>\n",
       "    </tr>\n",
       "    <tr>\n",
       "      <th>C(Ex_fact)</th>\n",
       "      <td>68.740909</td>\n",
       "      <td>1.0</td>\n",
       "      <td>0.318415</td>\n",
       "      <td>0.574315</td>\n",
       "    </tr>\n",
       "    <tr>\n",
       "      <th>C(Marital_Status):C(Ex_fact)</th>\n",
       "      <td>567.612032</td>\n",
       "      <td>3.0</td>\n",
       "      <td>0.876413</td>\n",
       "      <td>0.457464</td>\n",
       "    </tr>\n",
       "    <tr>\n",
       "      <th>Residual</th>\n",
       "      <td>15543.691176</td>\n",
       "      <td>72.0</td>\n",
       "      <td>NaN</td>\n",
       "      <td>NaN</td>\n",
       "    </tr>\n",
       "  </tbody>\n",
       "</table>\n",
       "</div>"
      ],
      "text/plain": [
       "                                    sum_sq    df         F    PR(>F)\n",
       "C(Marital_Status)              1854.183458   3.0  2.862924  0.042637\n",
       "C(Ex_fact)                       68.740909   1.0  0.318415  0.574315\n",
       "C(Marital_Status):C(Ex_fact)    567.612032   3.0  0.876413  0.457464\n",
       "Residual                      15543.691176  72.0       NaN       NaN"
      ]
     },
     "execution_count": 96,
     "metadata": {},
     "output_type": "execute_result"
    }
   ],
   "source": [
    "formula = 'IA_Level ~ C(Marital_Status) + C(Ex_fact) + C(Marital_Status):C(Ex_fact)'\n",
    "\n",
    "model = smf.ols(formula, data=df).fit()\n",
    "anova_table = sm.stats.anova_lm(model, typ=2)\n",
    "\n",
    "anova_table"
   ]
  },
  {
   "cell_type": "code",
   "execution_count": 97,
   "id": "d6b31c01",
   "metadata": {},
   "outputs": [
    {
     "data": {
      "text/plain": [
       "Index(['Gender', 'Age', 'Marital_Status', 'Job', 'Education', ' زمان',\n",
       "       'BDI_II', 'Extraversion', 'Psychoticism', 'IA_Level', 'bdi_fact',\n",
       "       'Ex_fact', 'Psy_fact', 'IA_fact'],\n",
       "      dtype='object')"
      ]
     },
     "execution_count": 97,
     "metadata": {},
     "output_type": "execute_result"
    }
   ],
   "source": [
    "df.columns"
   ]
  },
  {
   "cell_type": "code",
   "execution_count": 98,
   "id": "51ac67a7",
   "metadata": {},
   "outputs": [
    {
     "name": "stdout",
     "output_type": "stream",
     "text": [
      "\n",
      "Tukey's HSD Post-Hoc Test Results:\n",
      "          0         3         5         2         4         1         6\n",
      "0  1.000000  0.004411  0.346939  0.582903  0.737302  0.865085  0.895515\n",
      "3  0.004411  1.000000  0.890429  0.027765  0.522139  0.959345  0.077073\n",
      "5  0.346939  0.890429  1.000000  0.923465  0.997599  0.999998  0.307823\n",
      "2  0.582903  0.027765  0.923465  1.000000  0.999819  0.998998  0.503386\n",
      "4  0.737302  0.522139  0.997599  0.999819  1.000000  0.999984  0.487413\n",
      "1  0.865085  0.959345  0.999998  0.998998  0.999984  1.000000  0.530882\n",
      "6  0.895515  0.077073  0.307823  0.503386  0.487413  0.530882  1.000000\n"
     ]
    }
   ],
   "source": [
    "import scikit_posthocs as sp\n",
    "\n",
    "tukey_result = sp.posthoc_tukey(df, val_col='IA_Level', group_col='Education')\n",
    "print(\"\\nTukey's HSD Post-Hoc Test Results:\")\n",
    "print(tukey_result)\n"
   ]
  },
  {
   "cell_type": "code",
   "execution_count": 101,
   "id": "dae9dad7",
   "metadata": {},
   "outputs": [
    {
     "name": "stdout",
     "output_type": "stream",
     "text": [
      "\n",
      "Tukey's HSD Post-Hoc Test Results:\n",
      "          0         1         2         3\n",
      "0  1.000000  0.024757  0.952091  0.994693\n",
      "1  0.024757  1.000000  0.421835  0.593106\n",
      "2  0.952091  0.421835  1.000000  0.999587\n",
      "3  0.994693  0.593106  0.999587  1.000000\n"
     ]
    }
   ],
   "source": [
    "tukey_result = sp.posthoc_tukey(df, val_col='IA_Level', group_col='Marital_Status')\n",
    "print(\"\\nTukey's HSD Post-Hoc Test Results:\")\n",
    "print(tukey_result)\n"
   ]
  },
  {
   "cell_type": "code",
   "execution_count": 102,
   "id": "00503e6f",
   "metadata": {},
   "outputs": [
    {
     "name": "stdout",
     "output_type": "stream",
     "text": [
      "\n",
      "Tukey's HSD Post-Hoc Test Results:\n",
      "           Mid       Low      High\n",
      "Mid   1.000000  0.001635  0.747557\n",
      "Low   0.001635  1.000000  0.001653\n",
      "High  0.747557  0.001653  1.000000\n"
     ]
    }
   ],
   "source": [
    "tukey_result = sp.posthoc_tukey(df, val_col='IA_Level', group_col='bdi_fact')\n",
    "print(\"\\nTukey's HSD Post-Hoc Test Results:\")\n",
    "print(tukey_result)"
   ]
  },
  {
   "cell_type": "code",
   "execution_count": null,
   "id": "5452dab4",
   "metadata": {},
   "outputs": [],
   "source": []
  }
 ],
 "metadata": {
  "kernelspec": {
   "display_name": "Python 3",
   "language": "python",
   "name": "python3"
  },
  "language_info": {
   "codemirror_mode": {
    "name": "ipython",
    "version": 3
   },
   "file_extension": ".py",
   "mimetype": "text/x-python",
   "name": "python",
   "nbconvert_exporter": "python",
   "pygments_lexer": "ipython3",
   "version": "3.12.0"
  }
 },
 "nbformat": 4,
 "nbformat_minor": 5
}
